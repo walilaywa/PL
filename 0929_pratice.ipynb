{
 "cells": [
  {
   "cell_type": "code",
   "execution_count": 13,
   "id": "65918bb1",
   "metadata": {},
   "outputs": [
    {
     "name": "stdout",
     "output_type": "stream",
     "text": [
      "['stu1', 'stu2', 'stu3']\n"
     ]
    }
   ],
   "source": [
    "dic={\"stu1\":[\"待加強\",\"表現尚可\"],\"stu2\":[\"待加強\",\"表現優良\"],\"stu3\":[\"表現優良\",\"表現尚可\"]}\n",
    "stuname=list(dic.keys())\n",
    "print(stuname)"
   ]
  },
  {
   "cell_type": "code",
   "execution_count": 14,
   "id": "d0ee5f14",
   "metadata": {},
   "outputs": [
    {
     "name": "stdout",
     "output_type": "stream",
     "text": [
      "[['待加強', '表現尚可'], ['待加強', '表現優良'], ['表現優良', '表現尚可']]\n"
     ]
    }
   ],
   "source": [
    "grade=list(dic.values())\n",
    "print(grade)"
   ]
  },
  {
   "cell_type": "code",
   "execution_count": 15,
   "id": "74b43b06",
   "metadata": {},
   "outputs": [
    {
     "name": "stdout",
     "output_type": "stream",
     "text": [
      "學生姓名stu2\n",
      "['待加強', '表現優良']\n"
     ]
    }
   ],
   "source": [
    "s=input(\"學生姓名\")\n",
    "for i in dic.keys():\n",
    "    if s ==i:\n",
    "        print(dic[s])"
   ]
  },
  {
   "cell_type": "code",
   "execution_count": null,
   "id": "0f82a21a",
   "metadata": {},
   "outputs": [],
   "source": []
  },
  {
   "cell_type": "code",
   "execution_count": null,
   "id": "271a8e2b",
   "metadata": {},
   "outputs": [],
   "source": []
  }
 ],
 "metadata": {
  "kernelspec": {
   "display_name": "Python 3 (ipykernel)",
   "language": "python",
   "name": "python3"
  },
  "language_info": {
   "codemirror_mode": {
    "name": "ipython",
    "version": 3
   },
   "file_extension": ".py",
   "mimetype": "text/x-python",
   "name": "python",
   "nbconvert_exporter": "python",
   "pygments_lexer": "ipython3",
   "version": "3.9.12"
  }
 },
 "nbformat": 4,
 "nbformat_minor": 5
}
