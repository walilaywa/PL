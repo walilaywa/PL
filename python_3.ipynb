{
 "cells": [
  {
   "cell_type": "code",
   "execution_count": 1,
   "id": "b61442b4",
   "metadata": {},
   "outputs": [
    {
     "name": "stdout",
     "output_type": "stream",
     "text": [
      "請輸入你要投注的總金額：500\n",
      "請輸入你每注多少錢：50\n",
      "我是AI小小隆，請輸入你要出的?(剪刀/石頭/布)剪刀\n",
      "我出石頭我贏了！，剩下\n",
      "450\n",
      "我是AI小小隆，請輸入你要出的?(剪刀/石頭/布)石頭\n",
      "我出布我贏了！，剩下\n",
      "400\n",
      "我是AI小小隆，請輸入你要出的?(剪刀/石頭/布)天啊\n",
      "出錯了！，倒扣3倍！\n",
      "250\n",
      "我是AI小小隆，請輸入你要出的?(剪刀/石頭/布)布\n",
      "我出剪刀頭我贏了！，剩下\n",
      "200\n",
      "我是AI小小隆，請輸入你要出的?(剪刀/石頭/布)花\n",
      "出錯了！，倒扣3倍！\n",
      "50\n",
      "我是AI小小隆，請輸入你要出的?(剪刀/石頭/布)花\n",
      "出錯了！，倒扣3倍！\n",
      "-100\n",
      "你輸了！\n"
     ]
    }
   ],
   "source": [
    "#剪刀石頭布必勝板\n",
    "\n",
    "your_money=input('請輸入你要投注的總金額：')\n",
    "co_money=input('請輸入你每注多少錢：')\n",
    "\n",
    "while int(your_money) > 0 :\n",
    "\n",
    "  event=input(\"我是AI小小隆，請輸入你要出的?(剪刀/石頭/布)\")\n",
    "\n",
    "  if event ==\"剪刀\":\n",
    "    print(\"我出石頭我贏了！，剩下\")\n",
    "    your_money=int(your_money)-int(co_money)\n",
    "    print(int(your_money))\n",
    "  elif event ==\"石頭\":\n",
    "    print(\"我出布我贏了！，剩下\")\n",
    "    your_money=int(your_money)-int(co_money)\n",
    "    print(int(your_money))\n",
    "  elif event==\"布\":\n",
    "    print(\"我出剪刀頭我贏了！，剩下\")\n",
    "    your_money=int(your_money)-int(co_money)\n",
    "    print(int(your_money))\n",
    "  else:\n",
    "    print(\"出錯了！，倒扣3倍！\")\n",
    "    your_money=int(your_money)-int(co_money)*3\n",
    "    print(int(your_money))\n",
    "\n",
    "print(\"你輸了！\")"
   ]
  },
  {
   "cell_type": "raw",
   "id": "b23078fe",
   "metadata": {},
   "source": []
  },
  {
   "cell_type": "code",
   "execution_count": null,
   "id": "8d797833",
   "metadata": {},
   "outputs": [],
   "source": []
  }
 ],
 "metadata": {
  "kernelspec": {
   "display_name": "Python 3 (ipykernel)",
   "language": "python",
   "name": "python3"
  },
  "language_info": {
   "codemirror_mode": {
    "name": "ipython",
    "version": 3
   },
   "file_extension": ".py",
   "mimetype": "text/x-python",
   "name": "python",
   "nbconvert_exporter": "python",
   "pygments_lexer": "ipython3",
   "version": "3.9.12"
  }
 },
 "nbformat": 4,
 "nbformat_minor": 5
}
