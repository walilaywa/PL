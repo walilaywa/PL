{
 "cells": [
  {
   "cell_type": "code",
   "execution_count": 1,
   "id": "3707ff60",
   "metadata": {},
   "outputs": [
    {
     "name": "stdout",
     "output_type": "stream",
     "text": [
      "小花跟小明兩個人發生車禍，要依照比例原則賠錢。請問法官你的設定的比例原則是多少？\n",
      "(法官請輸入比例原則，小明為A，小花為B,兩者需為實數)\n",
      "請輸入A：5\n",
      "請輸入B：9\n",
      "小明的比例為0.36\n",
      "小花的比例為0.64\n",
      "法官請輸入總判賠金額：5000\n",
      "小明需賠償1786.0\n",
      "小明需賠償3214.0\n"
     ]
    }
   ],
   "source": [
    "#一個關於法官調節的戲劇遊戲\n",
    "str1='小花跟小明兩個人發生車禍，要依照比例原則賠錢。請問法官你的設定的比例原則是多少？'\n",
    "print(str1)\n",
    "str1='(法官請輸入比例原則，小明為A，小花為B,兩者需為實數)'\n",
    "print(str1)\n",
    "a1=input('請輸入A：')\n",
    "a2=input('請輸入B：')\n",
    "b1=int(a1)/(int(a1)+int(a2))\n",
    "b2=int(a2)/(int(a1)+int(a2))\n",
    "f_sentence = f'小明的比例為{round(float(b1),2)}'\n",
    "#round(a,4)表示a這個數字只顯示4位\n",
    "print(f_sentence)\n",
    "f_sentence = f'小花的比例為{round(float(b2),2)}'\n",
    "print(f_sentence)\n",
    "sum_all=input('法官請輸入總判賠金額：')\n",
    "f_sentence = f'小明需賠償{round(int(sum_all)*float(b1),0)}'\n",
    "print(f_sentence)\n",
    "f_sentence = f'小明需賠償{round(int(sum_all)*float(b2),0)}'\n",
    "print(f_sentence)"
   ]
  },
  {
   "cell_type": "code",
   "execution_count": null,
   "id": "cfa7687b",
   "metadata": {},
   "outputs": [],
   "source": []
  },
  {
   "cell_type": "code",
   "execution_count": null,
   "id": "c8cd6cd3",
   "metadata": {},
   "outputs": [],
   "source": []
  },
  {
   "cell_type": "code",
   "execution_count": null,
   "id": "6d3efe41",
   "metadata": {},
   "outputs": [],
   "source": []
  },
  {
   "cell_type": "code",
   "execution_count": null,
   "id": "3753e4f3",
   "metadata": {},
   "outputs": [],
   "source": []
  },
  {
   "cell_type": "code",
   "execution_count": null,
   "id": "c9c95943",
   "metadata": {},
   "outputs": [],
   "source": []
  },
  {
   "cell_type": "code",
   "execution_count": null,
   "id": "930869e8",
   "metadata": {},
   "outputs": [],
   "source": []
  }
 ],
 "metadata": {
  "kernelspec": {
   "display_name": "Python 3 (ipykernel)",
   "language": "python",
   "name": "python3"
  },
  "language_info": {
   "codemirror_mode": {
    "name": "ipython",
    "version": 3
   },
   "file_extension": ".py",
   "mimetype": "text/x-python",
   "name": "python",
   "nbconvert_exporter": "python",
   "pygments_lexer": "ipython3",
   "version": "3.9.12"
  }
 },
 "nbformat": 4,
 "nbformat_minor": 5
}
