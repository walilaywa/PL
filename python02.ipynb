{
 "cells": [
  {
   "cell_type": "code",
   "execution_count": 5,
   "id": "8555d257",
   "metadata": {},
   "outputs": [],
   "source": [
    "#一個官ㄩ\n",
    "str1='小花跟小明兩個人發生車禍，要依照比例原則賠錢。請問法官你的設定的比例原則是多少？'"
   ]
  },
  {
   "cell_type": "code",
   "execution_count": 6,
   "id": "6dcbaa63",
   "metadata": {},
   "outputs": [
    {
     "name": "stdout",
     "output_type": "stream",
     "text": [
      "小花跟小明兩個人發生車禍，要依照比例原則賠錢。請問法官你的設定的比例原則是多少？\n"
     ]
    }
   ],
   "source": [
    "print(str1)"
   ]
  },
  {
   "cell_type": "code",
   "execution_count": 7,
   "id": "14aedaeb",
   "metadata": {},
   "outputs": [
    {
     "name": "stdout",
     "output_type": "stream",
     "text": [
      "(法官請輸入比例原則，小明為A，小花為B,兩者需為實數)\n"
     ]
    }
   ],
   "source": [
    "str1='(法官請輸入比例原則，小明為A，小花為B,兩者需為實數)'\n",
    "print(str1)"
   ]
  },
  {
   "cell_type": "code",
   "execution_count": 29,
   "id": "fab830a7",
   "metadata": {},
   "outputs": [
    {
     "name": "stdout",
     "output_type": "stream",
     "text": [
      "請輸入A：5\n",
      "請輸入B：11\n",
      "小明的比例為0.31\n",
      "小花的比例為0.69\n"
     ]
    }
   ],
   "source": [
    "a1=input('請輸入A：')\n",
    "a2=input('請輸入B：')\n",
    "b1=int(a1)/(int(a1)+int(a2))\n",
    "b2=int(a2)/(int(a1)+int(a2))\n",
    "f_sentence = f'小明的比例為{round(float(b1),2)}'\n",
    "#round(a,4)表示a這個數字只顯示4位\n",
    "print(f_sentence)\n",
    "f_sentence = f'小花的比例為{round(float(b2),2)}'\n",
    "print(f_sentence)"
   ]
  },
  {
   "cell_type": "code",
   "execution_count": 30,
   "id": "90fb5432",
   "metadata": {},
   "outputs": [
    {
     "name": "stdout",
     "output_type": "stream",
     "text": [
      "法官請輸入總判賠金額：10000\n",
      "小明需賠償3125.0\n",
      "小明需賠償6875.0\n"
     ]
    }
   ],
   "source": [
    "sum_all=input('法官請輸入總判賠金額：')\n",
    "f_sentence = f'小明需賠償{round(int(sum_all)*float(b1),0)}'\n",
    "print(f_sentence)\n",
    "f_sentence = f'小明需賠償{round(int(sum_all)*float(b2),0)}'\n",
    "print(f_sentence)"
   ]
  },
  {
   "cell_type": "code",
   "execution_count": null,
   "id": "4f6538ff",
   "metadata": {},
   "outputs": [],
   "source": []
  },
  {
   "cell_type": "code",
   "execution_count": null,
   "id": "0ef4e5a3",
   "metadata": {},
   "outputs": [],
   "source": []
  }
 ],
 "metadata": {
  "kernelspec": {
   "display_name": "Python 3 (ipykernel)",
   "language": "python",
   "name": "python3"
  },
  "language_info": {
   "codemirror_mode": {
    "name": "ipython",
    "version": 3
   },
   "file_extension": ".py",
   "mimetype": "text/x-python",
   "name": "python",
   "nbconvert_exporter": "python",
   "pygments_lexer": "ipython3",
   "version": "3.9.12"
  }
 },
 "nbformat": 4,
 "nbformat_minor": 5
}
