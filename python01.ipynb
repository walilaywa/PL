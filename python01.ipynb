{
 "cells": [
  {
   "cell_type": "code",
   "execution_count": 20,
   "id": "52c6b1bc",
   "metadata": {},
   "outputs": [],
   "source": [
    "#銀行複利率簡單寫法\n",
    "money=100\n",
    "rate=10"
   ]
  },
  {
   "cell_type": "code",
   "execution_count": 21,
   "id": "7a2c0a2a",
   "metadata": {},
   "outputs": [],
   "source": [
    "str1=('小額存款，從100元開始：')"
   ]
  },
  {
   "cell_type": "code",
   "execution_count": 22,
   "id": "d2e6cff7",
   "metadata": {},
   "outputs": [
    {
     "name": "stdout",
     "output_type": "stream",
     "text": [
      "你要存多久？以年為單位10\n"
     ]
    }
   ],
   "source": [
    "year=input('你要存多久？以年為單位')"
   ]
  },
  {
   "cell_type": "code",
   "execution_count": 23,
   "id": "6ea46803",
   "metadata": {},
   "outputs": [
    {
     "name": "stdout",
     "output_type": "stream",
     "text": [
      "小額存款，從100元開始：\n"
     ]
    }
   ],
   "source": [
    "print (str1)"
   ]
  },
  {
   "cell_type": "code",
   "execution_count": 24,
   "id": "8f7da0ed",
   "metadata": {},
   "outputs": [],
   "source": [
    "all_money=money*(1+10*0.01) ** int(year)"
   ]
  },
  {
   "cell_type": "code",
   "execution_count": 25,
   "id": "eca064d6",
   "metadata": {
    "scrolled": true
   },
   "outputs": [
    {
     "name": "stdout",
     "output_type": "stream",
     "text": [
      "259.3742460100002\n"
     ]
    }
   ],
   "source": [
    "print(all_money)"
   ]
  },
  {
   "cell_type": "code",
   "execution_count": null,
   "id": "2b21980e",
   "metadata": {},
   "outputs": [],
   "source": []
  }
 ],
 "metadata": {
  "kernelspec": {
   "display_name": "Python 3 (ipykernel)",
   "language": "python",
   "name": "python3"
  },
  "language_info": {
   "codemirror_mode": {
    "name": "ipython",
    "version": 3
   },
   "file_extension": ".py",
   "mimetype": "text/x-python",
   "name": "python",
   "nbconvert_exporter": "python",
   "pygments_lexer": "ipython3",
   "version": "3.9.12"
  }
 },
 "nbformat": 4,
 "nbformat_minor": 5
}
