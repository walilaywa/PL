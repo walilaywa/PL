{
 "cells": [
  {
   "cell_type": "code",
   "execution_count": 1,
   "id": "aa46384b",
   "metadata": {},
   "outputs": [],
   "source": [
    "money=100\n",
    "rate=10"
   ]
  },
  {
   "cell_type": "code",
   "execution_count": null,
   "id": "b6cdb162",
   "metadata": {},
   "outputs": [],
   "source": []
  },
  {
   "cell_type": "code",
   "execution_count": null,
   "id": "ef52f056",
   "metadata": {},
   "outputs": [],
   "source": [
    "print "
   ]
  }
 ],
 "metadata": {
  "kernelspec": {
   "display_name": "Python 3 (ipykernel)",
   "language": "python",
   "name": "python3"
  },
  "language_info": {
   "codemirror_mode": {
    "name": "ipython",
    "version": 3
   },
   "file_extension": ".py",
   "mimetype": "text/x-python",
   "name": "python",
   "nbconvert_exporter": "python",
   "pygments_lexer": "ipython3",
   "version": "3.9.12"
  }
 },
 "nbformat": 4,
 "nbformat_minor": 5
}
