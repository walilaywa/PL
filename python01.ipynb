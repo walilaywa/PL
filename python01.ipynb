{
 "cells": [
  {
   "cell_type": "code",
   "execution_count": 1,
   "id": "1f4fcb6f",
   "metadata": {},
   "outputs": [],
   "source": [
    "#銀行複利率簡單寫法\n",
    "money=100\n",
    "rate=10"
   ]
  },
  {
   "cell_type": "code",
   "execution_count": 7,
   "id": "ec0fc1d4",
   "metadata": {},
   "outputs": [],
   "source": [
    "str1=('小額存款，從100元開始：')"
   ]
  },
  {
   "cell_type": "code",
   "execution_count": 8,
   "id": "2832f002",
   "metadata": {},
   "outputs": [
    {
     "name": "stdout",
     "output_type": "stream",
     "text": [
      "小額存款，從100元開始：\n"
     ]
    }
   ],
   "source": [
    "print (str1)"
   ]
  },
  {
   "cell_type": "code",
   "execution_count": 16,
   "id": "f1713aa6",
   "metadata": {},
   "outputs": [
    {
     "name": "stdout",
     "output_type": "stream",
     "text": [
      "你要存多久？以年為單位5\n"
     ]
    }
   ],
   "source": [
    "year=input('你要存多久？以年為單位')"
   ]
  },
  {
   "cell_type": "code",
   "execution_count": 22,
   "id": "f7fb23b1",
   "metadata": {},
   "outputs": [],
   "source": [
    "all_money=money*10/100 ** int(year)"
   ]
  },
  {
   "cell_type": "code",
   "execution_count": 21,
   "id": "57b180ea",
   "metadata": {
    "scrolled": true
   },
   "outputs": [
    {
     "name": "stdout",
     "output_type": "stream",
     "text": [
      "10000000\n"
     ]
    }
   ],
   "source": [
    "print(all_money)"
   ]
  },
  {
   "cell_type": "code",
   "execution_count": null,
   "id": "7f880563",
   "metadata": {},
   "outputs": [],
   "source": []
  }
 ],
 "metadata": {
  "kernelspec": {
   "display_name": "Python 3 (ipykernel)",
   "language": "python",
   "name": "python3"
  },
  "language_info": {
   "codemirror_mode": {
    "name": "ipython",
    "version": 3
   },
   "file_extension": ".py",
   "mimetype": "text/x-python",
   "name": "python",
   "nbconvert_exporter": "python",
   "pygments_lexer": "ipython3",
   "version": "3.9.12"
  }
 },
 "nbformat": 4,
 "nbformat_minor": 5
}
