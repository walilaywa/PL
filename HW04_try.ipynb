{
 "cells": [
  {
   "cell_type": "code",
   "execution_count": 2,
   "id": "84dfee37",
   "metadata": {},
   "outputs": [],
   "source": [
    "#pip install jieba 安裝套件"
   ]
  },
  {
   "cell_type": "code",
   "execution_count": 3,
   "id": "aecce453",
   "metadata": {},
   "outputs": [],
   "source": [
    "import jieba"
   ]
  },
  {
   "cell_type": "code",
   "execution_count": 4,
   "id": "d487b3f6",
   "metadata": {},
   "outputs": [],
   "source": [
    "import jieba.analyse"
   ]
  },
  {
   "cell_type": "code",
   "execution_count": 5,
   "id": "71d1711d",
   "metadata": {},
   "outputs": [],
   "source": [
    "import pandas as pd"
   ]
  },
  {
   "cell_type": "code",
   "execution_count": 117,
   "id": "d87986bc",
   "metadata": {},
   "outputs": [],
   "source": [
    "import numpy as np"
   ]
  },
  {
   "cell_type": "code",
   "execution_count": 7,
   "id": "babbd451",
   "metadata": {},
   "outputs": [],
   "source": [
    "from collections import Counter"
   ]
  },
  {
   "cell_type": "code",
   "execution_count": 8,
   "id": "3ce2fab8",
   "metadata": {},
   "outputs": [],
   "source": [
    "telldata =pd.read_csv(\"HW04-1.csv\")"
   ]
  },
  {
   "cell_type": "code",
   "execution_count": 9,
   "id": "6acf95a1",
   "metadata": {},
   "outputs": [
    {
     "data": {
      "text/html": [
       "<div>\n",
       "<style scoped>\n",
       "    .dataframe tbody tr th:only-of-type {\n",
       "        vertical-align: middle;\n",
       "    }\n",
       "\n",
       "    .dataframe tbody tr th {\n",
       "        vertical-align: top;\n",
       "    }\n",
       "\n",
       "    .dataframe thead th {\n",
       "        text-align: right;\n",
       "    }\n",
       "</style>\n",
       "<table border=\"1\" class=\"dataframe\">\n",
       "  <thead>\n",
       "    <tr style=\"text-align: right;\">\n",
       "      <th></th>\n",
       "      <th>作者</th>\n",
       "      <th>內容</th>\n",
       "    </tr>\n",
       "  </thead>\n",
       "  <tbody>\n",
       "    <tr>\n",
       "      <th>0</th>\n",
       "      <td>Anonymous</td>\n",
       "      <td>老師好帥～想問老師現在有伴侶嗎？</td>\n",
       "    </tr>\n",
       "    <tr>\n",
       "      <th>1</th>\n",
       "      <td>薛雅云</td>\n",
       "      <td>請問可不可以推薦適合我們的工作？</td>\n",
       "    </tr>\n",
       "    <tr>\n",
       "      <th>2</th>\n",
       "      <td>Anonymous</td>\n",
       "      <td>既然那麼討厭台灣，為什麼不以自願取得外國國籍，放棄台灣國籍身份？</td>\n",
       "    </tr>\n",
       "    <tr>\n",
       "      <th>3</th>\n",
       "      <td>60771026H_張曦舫</td>\n",
       "      <td>科技與工程教育組</td>\n",
       "    </tr>\n",
       "    <tr>\n",
       "      <th>4</th>\n",
       "      <td>Anonymous</td>\n",
       "      <td>想請問保養的祕訣</td>\n",
       "    </tr>\n",
       "  </tbody>\n",
       "</table>\n",
       "</div>"
      ],
      "text/plain": [
       "              作者                                內容\n",
       "0      Anonymous                  老師好帥～想問老師現在有伴侶嗎？\n",
       "1            薛雅云                  請問可不可以推薦適合我們的工作？\n",
       "2      Anonymous  既然那麼討厭台灣，為什麼不以自願取得外國國籍，放棄台灣國籍身份？\n",
       "3  60771026H_張曦舫                          科技與工程教育組\n",
       "4      Anonymous                          想請問保養的祕訣"
      ]
     },
     "execution_count": 9,
     "metadata": {},
     "output_type": "execute_result"
    }
   ],
   "source": [
    "telldata.head()"
   ]
  },
  {
   "cell_type": "code",
   "execution_count": 10,
   "id": "464909e4",
   "metadata": {},
   "outputs": [
    {
     "name": "stderr",
     "output_type": "stream",
     "text": [
      "Building prefix dict from the default dictionary ...\n",
      "Loading model from cache C:\\Users\\paylung\\AppData\\Local\\Temp\\jieba.cache\n",
      "Loading model cost 0.667 seconds.\n",
      "Prefix dict has been built successfully.\n"
     ]
    },
    {
     "name": "stdout",
     "output_type": "stream",
     "text": [
      "我-是-吳沛龍-老師-在-龍門國-中教書\n"
     ]
    }
   ],
   "source": [
    "#斷句範例\n",
    "doct=[\"我是吳沛龍老師在龍門國中教書\"]\n",
    "for sentence in doct:#取出文章中的第一句\n",
    "    doct_list=jieba.cut(sentence)\n",
    "    print(\"-\".join(doct_list))"
   ]
  },
  {
   "cell_type": "markdown",
   "id": "fec93f6b",
   "metadata": {},
   "source": [
    "#建立斷詞字典再重新跑一次\n",
    "jieba.load_userdict(\"userdic.txt\")\n",
    "for sentence in doct:#取出文章中的第一句\n",
    "    doct_list=jieba.cut(sentence)\n",
    "    print(\"-\".join(doct_list))"
   ]
  },
  {
   "cell_type": "code",
   "execution_count": 11,
   "id": "816f69aa",
   "metadata": {},
   "outputs": [
    {
     "name": "stdout",
     "output_type": "stream",
     "text": [
      "我-是-吳沛龍-老師-在-龍門國中-教書\n"
     ]
    }
   ],
   "source": [
    "#建立斷詞字典再重新跑一次 \n",
    "jieba.load_userdict(\"userdic.txt\") \n",
    "for sentence in doct:\n",
    "    #取出文章中的第一句 \n",
    "    doct_list=jieba.cut(sentence)\n",
    "    print(\"-\".join(doct_list))"
   ]
  },
  {
   "cell_type": "code",
   "execution_count": 12,
   "id": "55b25c54",
   "metadata": {},
   "outputs": [
    {
     "data": {
      "text/html": [
       "<div>\n",
       "<style scoped>\n",
       "    .dataframe tbody tr th:only-of-type {\n",
       "        vertical-align: middle;\n",
       "    }\n",
       "\n",
       "    .dataframe tbody tr th {\n",
       "        vertical-align: top;\n",
       "    }\n",
       "\n",
       "    .dataframe thead th {\n",
       "        text-align: right;\n",
       "    }\n",
       "</style>\n",
       "<table border=\"1\" class=\"dataframe\">\n",
       "  <thead>\n",
       "    <tr style=\"text-align: right;\">\n",
       "      <th></th>\n",
       "      <th>作者</th>\n",
       "      <th>內容</th>\n",
       "      <th>項目</th>\n",
       "    </tr>\n",
       "  </thead>\n",
       "  <tbody>\n",
       "    <tr>\n",
       "      <th>0</th>\n",
       "      <td>Anonymous</td>\n",
       "      <td>老師好帥～想問老師現在有伴侶嗎？</td>\n",
       "      <td></td>\n",
       "    </tr>\n",
       "    <tr>\n",
       "      <th>1</th>\n",
       "      <td>薛雅云</td>\n",
       "      <td>請問可不可以推薦適合我們的工作？</td>\n",
       "      <td></td>\n",
       "    </tr>\n",
       "    <tr>\n",
       "      <th>2</th>\n",
       "      <td>Anonymous</td>\n",
       "      <td>既然那麼討厭台灣，為什麼不以自願取得外國國籍，放棄台灣國籍身份？</td>\n",
       "      <td></td>\n",
       "    </tr>\n",
       "    <tr>\n",
       "      <th>3</th>\n",
       "      <td>60771026H_張曦舫</td>\n",
       "      <td>科技與工程教育組</td>\n",
       "      <td></td>\n",
       "    </tr>\n",
       "    <tr>\n",
       "      <th>4</th>\n",
       "      <td>Anonymous</td>\n",
       "      <td>想請問保養的祕訣</td>\n",
       "      <td></td>\n",
       "    </tr>\n",
       "  </tbody>\n",
       "</table>\n",
       "</div>"
      ],
      "text/plain": [
       "              作者                                內容 項目\n",
       "0      Anonymous                  老師好帥～想問老師現在有伴侶嗎？   \n",
       "1            薛雅云                  請問可不可以推薦適合我們的工作？   \n",
       "2      Anonymous  既然那麼討厭台灣，為什麼不以自願取得外國國籍，放棄台灣國籍身份？   \n",
       "3  60771026H_張曦舫                          科技與工程教育組   \n",
       "4      Anonymous                          想請問保養的祕訣   "
      ]
     },
     "execution_count": 12,
     "metadata": {},
     "output_type": "execute_result"
    }
   ],
   "source": [
    "telldata[\"項目\"]=\"\"\n",
    "telldata.head()"
   ]
  },
  {
   "cell_type": "code",
   "execution_count": 33,
   "id": "1f459b12",
   "metadata": {},
   "outputs": [],
   "source": [
    "index = 0\n",
    "for sentence in telldata[\"內容\"]:#取出表格中的內容\n",
    "    doct_list=jieba.analyse.extract_tags(sentence,250)#挑出250個最重要的單詞\n",
    "    telldata[\"項目\"].iloc[index]=doct_list#將每個字句的重點單詞放在各個項目之中\n",
    "    index += 1"
   ]
  },
  {
   "cell_type": "code",
   "execution_count": 34,
   "id": "50315947",
   "metadata": {},
   "outputs": [
    {
     "data": {
      "text/plain": [
       "0                                     [老師, 想問, 伴侶]\n",
       "1                           [推薦, 適合, 我們, 可不可以, 工作]\n",
       "2     [那麼, 討厭, 台灣, 自願, 外國國籍, 放棄, 台灣國籍, 不以, 身份, 取得]\n",
       "3                                     [科技, 工程, 教育]\n",
       "4                                               []\n",
       "                          ...                     \n",
       "72            [超英, 認為, 單單, 先進, 思維, 台灣, 趕美, 依靠, 可以]\n",
       "73           [項目, 收購, 創業, 會主動, 更廣, 更深, 公司, 合作, 一起]\n",
       "74                                [怎麼, 中國, 看待, 崛起]\n",
       "75                                    [哪個, 加盟, 品牌]\n",
       "76                                [浴缸, 老師, 怎樣, 你家]\n",
       "Name: 項目, Length: 77, dtype: object"
      ]
     },
     "execution_count": 34,
     "metadata": {},
     "output_type": "execute_result"
    }
   ],
   "source": [
    "telldata[\"項目\"]"
   ]
  },
  {
   "cell_type": "code",
   "execution_count": 85,
   "id": "f2df8bca",
   "metadata": {},
   "outputs": [
    {
     "data": {
      "text/plain": [
       "0                                  [老師, 伴侶]\n",
       "1                    [推薦, 適合, 我們, 可不可以, 工作]\n",
       "2      [討厭, 台灣, 自願, 外國國籍, 放棄, 台灣國籍, 身份, 取得]\n",
       "3                              [科技, 工程, 教育]\n",
       "4                                        []\n",
       "                      ...                  \n",
       "72         [超英, 認為, 先進, 思維, 台灣, 趕美, 依靠, 可以]\n",
       "73    [項目, 收購, 創業, 會主動, 更廣, 更深, 公司, 合作, 一起]\n",
       "74                             [中國, 看待, 崛起]\n",
       "75                                 [加盟, 品牌]\n",
       "76                             [浴缸, 老師, 你家]\n",
       "Name: 項目, Length: 77, dtype: object"
      ]
     },
     "execution_count": 85,
     "metadata": {},
     "output_type": "execute_result"
    }
   ],
   "source": [
    "jieba.load_userdict(\"userdic.txt\") #將字補完整\n",
    "jieba.analyse.set_stop_words(\"noword.txt\") #去除不重要的字，要放在同個資料夾\n",
    "index = 0\n",
    "for sentence in telldata[\"內容\"]:#取出表格中的內容(各列裡面)\n",
    "    doct_list=jieba.analyse.extract_tags(sentence,20)#挑出20個權重最高的單詞\n",
    "    telldata[\"項目\"].iloc[index]=doct_list#將每個字句的重點單詞放在各個項目之中\n",
    "    index += 1\n",
    "telldata[\"項目\"]"
   ]
  },
  {
   "cell_type": "code",
   "execution_count": 86,
   "id": "905373f3",
   "metadata": {},
   "outputs": [
    {
     "ename": "SyntaxError",
     "evalue": "expression cannot contain assignment, perhaps you meant \"==\"? (482823981.py, line 1)",
     "output_type": "error",
     "traceback": [
      "\u001b[1;36m  File \u001b[1;32m\"C:\\Users\\paylung\\AppData\\Local\\Temp\\ipykernel_2708\\482823981.py\"\u001b[1;36m, line \u001b[1;32m1\u001b[0m\n\u001b[1;33m    telldata.to_csv(\"keywords_1st.csv\".index=False)#輸出為keywords_1st的CSV檔\u001b[0m\n\u001b[1;37m                    ^\u001b[0m\n\u001b[1;31mSyntaxError\u001b[0m\u001b[1;31m:\u001b[0m expression cannot contain assignment, perhaps you meant \"==\"?\n"
     ]
    }
   ],
   "source": [
    "telldata.to_csv(\"keywords_1st.csv\".index=False)#輸出為keywords_1st的CSV檔"
   ]
  },
  {
   "cell_type": "code",
   "execution_count": 87,
   "id": "5af61af8",
   "metadata": {},
   "outputs": [
    {
     "data": {
      "text/plain": [
       "dict_keys(['Anonymous', '薛雅云', '60771026H_張曦舫', '張育嘉(61071010H)', '61071015h', '61071001H', '61071014h', '61071020h', '61071007H', 'PEI LUNG', '61071027h', '61071003H', '60971042H', '60971018H_翁子涵', '61071011h', '61071005h', '蔡孟辰', '60971041H', '61071016H', '吳詩怡61071009H', '60971038h_陳妍靜', '61071021H', '61071006H', '60971031H', '61071031H', '61071008H', '曾品翔', '60971032H'])"
      ]
     },
     "execution_count": 87,
     "metadata": {},
     "output_type": "execute_result"
    }
   ],
   "source": [
    "Counter(telldata[\"作者\"]).keys()#抓出所有的作者"
   ]
  },
  {
   "cell_type": "code",
   "execution_count": 88,
   "id": "a7d6a7b1",
   "metadata": {},
   "outputs": [],
   "source": [
    "words=list(telldata[\"作者\"])\n",
    "show_key=pd.DataFrame(Counter(words).keys())#那些作者\n",
    "show_values=pd.DataFrame(Counter(words).values())#出現次數"
   ]
  },
  {
   "cell_type": "code",
   "execution_count": 89,
   "id": "3e2e412a",
   "metadata": {},
   "outputs": [
    {
     "data": {
      "text/plain": [
       "[                 0\n",
       " 0        Anonymous\n",
       " 1              薛雅云\n",
       " 2    60771026H_張曦舫\n",
       " 3   張育嘉(61071010H)\n",
       " 4        61071015h\n",
       " 5        61071001H\n",
       " 6        61071014h\n",
       " 7        61071020h\n",
       " 8        61071007H\n",
       " 9         PEI LUNG\n",
       " 10       61071027h\n",
       " 11       61071003H\n",
       " 12       60971042H\n",
       " 13   60971018H_翁子涵\n",
       " 14       61071011h\n",
       " 15       61071005h\n",
       " 16             蔡孟辰\n",
       " 17       60971041H\n",
       " 18       61071016H\n",
       " 19    吳詩怡61071009H\n",
       " 20   60971038h_陳妍靜\n",
       " 21       61071021H\n",
       " 22       61071006H\n",
       " 23       60971031H\n",
       " 24       61071031H\n",
       " 25       61071008H\n",
       " 26             曾品翔\n",
       " 27       60971032H,\n",
       "      0\n",
       " 0   17\n",
       " 1    3\n",
       " 2    4\n",
       " 3    2\n",
       " 4    2\n",
       " 5    4\n",
       " 6    2\n",
       " 7    1\n",
       " 8    3\n",
       " 9    4\n",
       " 10   1\n",
       " 11   3\n",
       " 12   3\n",
       " 13   1\n",
       " 14   2\n",
       " 15   3\n",
       " 16   1\n",
       " 17   2\n",
       " 18   6\n",
       " 19   1\n",
       " 20   1\n",
       " 21   2\n",
       " 22   2\n",
       " 23   1\n",
       " 24   2\n",
       " 25   2\n",
       " 26   1\n",
       " 27   1]"
      ]
     },
     "execution_count": 89,
     "metadata": {},
     "output_type": "execute_result"
    }
   ],
   "source": [
    "do=[show_key,show_values]\n",
    "do"
   ]
  },
  {
   "cell_type": "code",
   "execution_count": 90,
   "id": "c44bee4d",
   "metadata": {},
   "outputs": [
    {
     "data": {
      "text/html": [
       "<div>\n",
       "<style scoped>\n",
       "    .dataframe tbody tr th:only-of-type {\n",
       "        vertical-align: middle;\n",
       "    }\n",
       "\n",
       "    .dataframe tbody tr th {\n",
       "        vertical-align: top;\n",
       "    }\n",
       "\n",
       "    .dataframe thead th {\n",
       "        text-align: right;\n",
       "    }\n",
       "</style>\n",
       "<table border=\"1\" class=\"dataframe\">\n",
       "  <thead>\n",
       "    <tr style=\"text-align: right;\">\n",
       "      <th></th>\n",
       "      <th>0</th>\n",
       "      <th>0</th>\n",
       "    </tr>\n",
       "  </thead>\n",
       "  <tbody>\n",
       "    <tr>\n",
       "      <th>0</th>\n",
       "      <td>Anonymous</td>\n",
       "      <td>17</td>\n",
       "    </tr>\n",
       "    <tr>\n",
       "      <th>1</th>\n",
       "      <td>薛雅云</td>\n",
       "      <td>3</td>\n",
       "    </tr>\n",
       "    <tr>\n",
       "      <th>2</th>\n",
       "      <td>60771026H_張曦舫</td>\n",
       "      <td>4</td>\n",
       "    </tr>\n",
       "    <tr>\n",
       "      <th>3</th>\n",
       "      <td>張育嘉(61071010H)</td>\n",
       "      <td>2</td>\n",
       "    </tr>\n",
       "    <tr>\n",
       "      <th>4</th>\n",
       "      <td>61071015h</td>\n",
       "      <td>2</td>\n",
       "    </tr>\n",
       "    <tr>\n",
       "      <th>5</th>\n",
       "      <td>61071001H</td>\n",
       "      <td>4</td>\n",
       "    </tr>\n",
       "    <tr>\n",
       "      <th>6</th>\n",
       "      <td>61071014h</td>\n",
       "      <td>2</td>\n",
       "    </tr>\n",
       "    <tr>\n",
       "      <th>7</th>\n",
       "      <td>61071020h</td>\n",
       "      <td>1</td>\n",
       "    </tr>\n",
       "    <tr>\n",
       "      <th>8</th>\n",
       "      <td>61071007H</td>\n",
       "      <td>3</td>\n",
       "    </tr>\n",
       "    <tr>\n",
       "      <th>9</th>\n",
       "      <td>PEI LUNG</td>\n",
       "      <td>4</td>\n",
       "    </tr>\n",
       "    <tr>\n",
       "      <th>10</th>\n",
       "      <td>61071027h</td>\n",
       "      <td>1</td>\n",
       "    </tr>\n",
       "    <tr>\n",
       "      <th>11</th>\n",
       "      <td>61071003H</td>\n",
       "      <td>3</td>\n",
       "    </tr>\n",
       "    <tr>\n",
       "      <th>12</th>\n",
       "      <td>60971042H</td>\n",
       "      <td>3</td>\n",
       "    </tr>\n",
       "    <tr>\n",
       "      <th>13</th>\n",
       "      <td>60971018H_翁子涵</td>\n",
       "      <td>1</td>\n",
       "    </tr>\n",
       "    <tr>\n",
       "      <th>14</th>\n",
       "      <td>61071011h</td>\n",
       "      <td>2</td>\n",
       "    </tr>\n",
       "    <tr>\n",
       "      <th>15</th>\n",
       "      <td>61071005h</td>\n",
       "      <td>3</td>\n",
       "    </tr>\n",
       "    <tr>\n",
       "      <th>16</th>\n",
       "      <td>蔡孟辰</td>\n",
       "      <td>1</td>\n",
       "    </tr>\n",
       "    <tr>\n",
       "      <th>17</th>\n",
       "      <td>60971041H</td>\n",
       "      <td>2</td>\n",
       "    </tr>\n",
       "    <tr>\n",
       "      <th>18</th>\n",
       "      <td>61071016H</td>\n",
       "      <td>6</td>\n",
       "    </tr>\n",
       "    <tr>\n",
       "      <th>19</th>\n",
       "      <td>吳詩怡61071009H</td>\n",
       "      <td>1</td>\n",
       "    </tr>\n",
       "    <tr>\n",
       "      <th>20</th>\n",
       "      <td>60971038h_陳妍靜</td>\n",
       "      <td>1</td>\n",
       "    </tr>\n",
       "    <tr>\n",
       "      <th>21</th>\n",
       "      <td>61071021H</td>\n",
       "      <td>2</td>\n",
       "    </tr>\n",
       "    <tr>\n",
       "      <th>22</th>\n",
       "      <td>61071006H</td>\n",
       "      <td>2</td>\n",
       "    </tr>\n",
       "    <tr>\n",
       "      <th>23</th>\n",
       "      <td>60971031H</td>\n",
       "      <td>1</td>\n",
       "    </tr>\n",
       "    <tr>\n",
       "      <th>24</th>\n",
       "      <td>61071031H</td>\n",
       "      <td>2</td>\n",
       "    </tr>\n",
       "    <tr>\n",
       "      <th>25</th>\n",
       "      <td>61071008H</td>\n",
       "      <td>2</td>\n",
       "    </tr>\n",
       "    <tr>\n",
       "      <th>26</th>\n",
       "      <td>曾品翔</td>\n",
       "      <td>1</td>\n",
       "    </tr>\n",
       "    <tr>\n",
       "      <th>27</th>\n",
       "      <td>60971032H</td>\n",
       "      <td>1</td>\n",
       "    </tr>\n",
       "  </tbody>\n",
       "</table>\n",
       "</div>"
      ],
      "text/plain": [
       "                 0   0\n",
       "0        Anonymous  17\n",
       "1              薛雅云   3\n",
       "2    60771026H_張曦舫   4\n",
       "3   張育嘉(61071010H)   2\n",
       "4        61071015h   2\n",
       "5        61071001H   4\n",
       "6        61071014h   2\n",
       "7        61071020h   1\n",
       "8        61071007H   3\n",
       "9         PEI LUNG   4\n",
       "10       61071027h   1\n",
       "11       61071003H   3\n",
       "12       60971042H   3\n",
       "13   60971018H_翁子涵   1\n",
       "14       61071011h   2\n",
       "15       61071005h   3\n",
       "16             蔡孟辰   1\n",
       "17       60971041H   2\n",
       "18       61071016H   6\n",
       "19    吳詩怡61071009H   1\n",
       "20   60971038h_陳妍靜   1\n",
       "21       61071021H   2\n",
       "22       61071006H   2\n",
       "23       60971031H   1\n",
       "24       61071031H   2\n",
       "25       61071008H   2\n",
       "26             曾品翔   1\n",
       "27       60971032H   1"
      ]
     },
     "execution_count": 90,
     "metadata": {},
     "output_type": "execute_result"
    }
   ],
   "source": [
    "result=pd.concat(do,axis=1)#表格化\n",
    "result"
   ]
  },
  {
   "cell_type": "code",
   "execution_count": 91,
   "id": "07c2ec32",
   "metadata": {},
   "outputs": [
    {
     "data": {
      "text/html": [
       "<div>\n",
       "<style scoped>\n",
       "    .dataframe tbody tr th:only-of-type {\n",
       "        vertical-align: middle;\n",
       "    }\n",
       "\n",
       "    .dataframe tbody tr th {\n",
       "        vertical-align: top;\n",
       "    }\n",
       "\n",
       "    .dataframe thead th {\n",
       "        text-align: right;\n",
       "    }\n",
       "</style>\n",
       "<table border=\"1\" class=\"dataframe\">\n",
       "  <thead>\n",
       "    <tr style=\"text-align: right;\">\n",
       "      <th></th>\n",
       "      <th>作者</th>\n",
       "      <th>回答次數</th>\n",
       "    </tr>\n",
       "  </thead>\n",
       "  <tbody>\n",
       "    <tr>\n",
       "      <th>0</th>\n",
       "      <td>Anonymous</td>\n",
       "      <td>17</td>\n",
       "    </tr>\n",
       "    <tr>\n",
       "      <th>1</th>\n",
       "      <td>薛雅云</td>\n",
       "      <td>3</td>\n",
       "    </tr>\n",
       "    <tr>\n",
       "      <th>2</th>\n",
       "      <td>60771026H_張曦舫</td>\n",
       "      <td>4</td>\n",
       "    </tr>\n",
       "    <tr>\n",
       "      <th>3</th>\n",
       "      <td>張育嘉(61071010H)</td>\n",
       "      <td>2</td>\n",
       "    </tr>\n",
       "    <tr>\n",
       "      <th>4</th>\n",
       "      <td>61071015h</td>\n",
       "      <td>2</td>\n",
       "    </tr>\n",
       "    <tr>\n",
       "      <th>5</th>\n",
       "      <td>61071001H</td>\n",
       "      <td>4</td>\n",
       "    </tr>\n",
       "    <tr>\n",
       "      <th>6</th>\n",
       "      <td>61071014h</td>\n",
       "      <td>2</td>\n",
       "    </tr>\n",
       "    <tr>\n",
       "      <th>7</th>\n",
       "      <td>61071020h</td>\n",
       "      <td>1</td>\n",
       "    </tr>\n",
       "    <tr>\n",
       "      <th>8</th>\n",
       "      <td>61071007H</td>\n",
       "      <td>3</td>\n",
       "    </tr>\n",
       "    <tr>\n",
       "      <th>9</th>\n",
       "      <td>PEI LUNG</td>\n",
       "      <td>4</td>\n",
       "    </tr>\n",
       "    <tr>\n",
       "      <th>10</th>\n",
       "      <td>61071027h</td>\n",
       "      <td>1</td>\n",
       "    </tr>\n",
       "    <tr>\n",
       "      <th>11</th>\n",
       "      <td>61071003H</td>\n",
       "      <td>3</td>\n",
       "    </tr>\n",
       "    <tr>\n",
       "      <th>12</th>\n",
       "      <td>60971042H</td>\n",
       "      <td>3</td>\n",
       "    </tr>\n",
       "    <tr>\n",
       "      <th>13</th>\n",
       "      <td>60971018H_翁子涵</td>\n",
       "      <td>1</td>\n",
       "    </tr>\n",
       "    <tr>\n",
       "      <th>14</th>\n",
       "      <td>61071011h</td>\n",
       "      <td>2</td>\n",
       "    </tr>\n",
       "    <tr>\n",
       "      <th>15</th>\n",
       "      <td>61071005h</td>\n",
       "      <td>3</td>\n",
       "    </tr>\n",
       "    <tr>\n",
       "      <th>16</th>\n",
       "      <td>蔡孟辰</td>\n",
       "      <td>1</td>\n",
       "    </tr>\n",
       "    <tr>\n",
       "      <th>17</th>\n",
       "      <td>60971041H</td>\n",
       "      <td>2</td>\n",
       "    </tr>\n",
       "    <tr>\n",
       "      <th>18</th>\n",
       "      <td>61071016H</td>\n",
       "      <td>6</td>\n",
       "    </tr>\n",
       "    <tr>\n",
       "      <th>19</th>\n",
       "      <td>吳詩怡61071009H</td>\n",
       "      <td>1</td>\n",
       "    </tr>\n",
       "    <tr>\n",
       "      <th>20</th>\n",
       "      <td>60971038h_陳妍靜</td>\n",
       "      <td>1</td>\n",
       "    </tr>\n",
       "    <tr>\n",
       "      <th>21</th>\n",
       "      <td>61071021H</td>\n",
       "      <td>2</td>\n",
       "    </tr>\n",
       "    <tr>\n",
       "      <th>22</th>\n",
       "      <td>61071006H</td>\n",
       "      <td>2</td>\n",
       "    </tr>\n",
       "    <tr>\n",
       "      <th>23</th>\n",
       "      <td>60971031H</td>\n",
       "      <td>1</td>\n",
       "    </tr>\n",
       "    <tr>\n",
       "      <th>24</th>\n",
       "      <td>61071031H</td>\n",
       "      <td>2</td>\n",
       "    </tr>\n",
       "    <tr>\n",
       "      <th>25</th>\n",
       "      <td>61071008H</td>\n",
       "      <td>2</td>\n",
       "    </tr>\n",
       "    <tr>\n",
       "      <th>26</th>\n",
       "      <td>曾品翔</td>\n",
       "      <td>1</td>\n",
       "    </tr>\n",
       "    <tr>\n",
       "      <th>27</th>\n",
       "      <td>60971032H</td>\n",
       "      <td>1</td>\n",
       "    </tr>\n",
       "  </tbody>\n",
       "</table>\n",
       "</div>"
      ],
      "text/plain": [
       "                作者  回答次數\n",
       "0        Anonymous    17\n",
       "1              薛雅云     3\n",
       "2    60771026H_張曦舫     4\n",
       "3   張育嘉(61071010H)     2\n",
       "4        61071015h     2\n",
       "5        61071001H     4\n",
       "6        61071014h     2\n",
       "7        61071020h     1\n",
       "8        61071007H     3\n",
       "9         PEI LUNG     4\n",
       "10       61071027h     1\n",
       "11       61071003H     3\n",
       "12       60971042H     3\n",
       "13   60971018H_翁子涵     1\n",
       "14       61071011h     2\n",
       "15       61071005h     3\n",
       "16             蔡孟辰     1\n",
       "17       60971041H     2\n",
       "18       61071016H     6\n",
       "19    吳詩怡61071009H     1\n",
       "20   60971038h_陳妍靜     1\n",
       "21       61071021H     2\n",
       "22       61071006H     2\n",
       "23       60971031H     1\n",
       "24       61071031H     2\n",
       "25       61071008H     2\n",
       "26             曾品翔     1\n",
       "27       60971032H     1"
      ]
     },
     "execution_count": 91,
     "metadata": {},
     "output_type": "execute_result"
    }
   ],
   "source": [
    "result.columns=[\"作者\",\"回答次數\"]#增加標頭\n",
    "result"
   ]
  },
  {
   "cell_type": "code",
   "execution_count": 92,
   "id": "19447be8",
   "metadata": {},
   "outputs": [
    {
     "data": {
      "application/vnd.plotly.v1+json": {
       "config": {
        "plotlyServerURL": "https://plot.ly"
       },
       "data": [
        {
         "alignmentgroup": "True",
         "hovertemplate": "作者=%{x}<br>回答次數=%{y}<extra></extra>",
         "legendgroup": "",
         "marker": {
          "color": "#636efa",
          "pattern": {
           "shape": ""
          }
         },
         "name": "",
         "offsetgroup": "",
         "orientation": "v",
         "showlegend": false,
         "textposition": "auto",
         "type": "bar",
         "x": [
          "Anonymous",
          "薛雅云",
          "60771026H_張曦舫",
          "張育嘉(61071010H)",
          "61071015h",
          "61071001H",
          "61071014h",
          "61071020h",
          "61071007H",
          "PEI LUNG",
          "61071027h",
          "61071003H",
          "60971042H",
          "60971018H_翁子涵",
          "61071011h",
          "61071005h",
          "蔡孟辰",
          "60971041H",
          "61071016H",
          "吳詩怡61071009H",
          "60971038h_陳妍靜",
          "61071021H",
          "61071006H",
          "60971031H",
          "61071031H",
          "61071008H",
          "曾品翔",
          "60971032H"
         ],
         "xaxis": "x",
         "y": [
          17,
          3,
          4,
          2,
          2,
          4,
          2,
          1,
          3,
          4,
          1,
          3,
          3,
          1,
          2,
          3,
          1,
          2,
          6,
          1,
          1,
          2,
          2,
          1,
          2,
          2,
          1,
          1
         ],
         "yaxis": "y"
        }
       ],
       "layout": {
        "barmode": "relative",
        "legend": {
         "tracegroupgap": 0
        },
        "template": {
         "data": {
          "bar": [
           {
            "error_x": {
             "color": "#2a3f5f"
            },
            "error_y": {
             "color": "#2a3f5f"
            },
            "marker": {
             "line": {
              "color": "#E5ECF6",
              "width": 0.5
             },
             "pattern": {
              "fillmode": "overlay",
              "size": 10,
              "solidity": 0.2
             }
            },
            "type": "bar"
           }
          ],
          "barpolar": [
           {
            "marker": {
             "line": {
              "color": "#E5ECF6",
              "width": 0.5
             },
             "pattern": {
              "fillmode": "overlay",
              "size": 10,
              "solidity": 0.2
             }
            },
            "type": "barpolar"
           }
          ],
          "carpet": [
           {
            "aaxis": {
             "endlinecolor": "#2a3f5f",
             "gridcolor": "white",
             "linecolor": "white",
             "minorgridcolor": "white",
             "startlinecolor": "#2a3f5f"
            },
            "baxis": {
             "endlinecolor": "#2a3f5f",
             "gridcolor": "white",
             "linecolor": "white",
             "minorgridcolor": "white",
             "startlinecolor": "#2a3f5f"
            },
            "type": "carpet"
           }
          ],
          "choropleth": [
           {
            "colorbar": {
             "outlinewidth": 0,
             "ticks": ""
            },
            "type": "choropleth"
           }
          ],
          "contour": [
           {
            "colorbar": {
             "outlinewidth": 0,
             "ticks": ""
            },
            "colorscale": [
             [
              0,
              "#0d0887"
             ],
             [
              0.1111111111111111,
              "#46039f"
             ],
             [
              0.2222222222222222,
              "#7201a8"
             ],
             [
              0.3333333333333333,
              "#9c179e"
             ],
             [
              0.4444444444444444,
              "#bd3786"
             ],
             [
              0.5555555555555556,
              "#d8576b"
             ],
             [
              0.6666666666666666,
              "#ed7953"
             ],
             [
              0.7777777777777778,
              "#fb9f3a"
             ],
             [
              0.8888888888888888,
              "#fdca26"
             ],
             [
              1,
              "#f0f921"
             ]
            ],
            "type": "contour"
           }
          ],
          "contourcarpet": [
           {
            "colorbar": {
             "outlinewidth": 0,
             "ticks": ""
            },
            "type": "contourcarpet"
           }
          ],
          "heatmap": [
           {
            "colorbar": {
             "outlinewidth": 0,
             "ticks": ""
            },
            "colorscale": [
             [
              0,
              "#0d0887"
             ],
             [
              0.1111111111111111,
              "#46039f"
             ],
             [
              0.2222222222222222,
              "#7201a8"
             ],
             [
              0.3333333333333333,
              "#9c179e"
             ],
             [
              0.4444444444444444,
              "#bd3786"
             ],
             [
              0.5555555555555556,
              "#d8576b"
             ],
             [
              0.6666666666666666,
              "#ed7953"
             ],
             [
              0.7777777777777778,
              "#fb9f3a"
             ],
             [
              0.8888888888888888,
              "#fdca26"
             ],
             [
              1,
              "#f0f921"
             ]
            ],
            "type": "heatmap"
           }
          ],
          "heatmapgl": [
           {
            "colorbar": {
             "outlinewidth": 0,
             "ticks": ""
            },
            "colorscale": [
             [
              0,
              "#0d0887"
             ],
             [
              0.1111111111111111,
              "#46039f"
             ],
             [
              0.2222222222222222,
              "#7201a8"
             ],
             [
              0.3333333333333333,
              "#9c179e"
             ],
             [
              0.4444444444444444,
              "#bd3786"
             ],
             [
              0.5555555555555556,
              "#d8576b"
             ],
             [
              0.6666666666666666,
              "#ed7953"
             ],
             [
              0.7777777777777778,
              "#fb9f3a"
             ],
             [
              0.8888888888888888,
              "#fdca26"
             ],
             [
              1,
              "#f0f921"
             ]
            ],
            "type": "heatmapgl"
           }
          ],
          "histogram": [
           {
            "marker": {
             "pattern": {
              "fillmode": "overlay",
              "size": 10,
              "solidity": 0.2
             }
            },
            "type": "histogram"
           }
          ],
          "histogram2d": [
           {
            "colorbar": {
             "outlinewidth": 0,
             "ticks": ""
            },
            "colorscale": [
             [
              0,
              "#0d0887"
             ],
             [
              0.1111111111111111,
              "#46039f"
             ],
             [
              0.2222222222222222,
              "#7201a8"
             ],
             [
              0.3333333333333333,
              "#9c179e"
             ],
             [
              0.4444444444444444,
              "#bd3786"
             ],
             [
              0.5555555555555556,
              "#d8576b"
             ],
             [
              0.6666666666666666,
              "#ed7953"
             ],
             [
              0.7777777777777778,
              "#fb9f3a"
             ],
             [
              0.8888888888888888,
              "#fdca26"
             ],
             [
              1,
              "#f0f921"
             ]
            ],
            "type": "histogram2d"
           }
          ],
          "histogram2dcontour": [
           {
            "colorbar": {
             "outlinewidth": 0,
             "ticks": ""
            },
            "colorscale": [
             [
              0,
              "#0d0887"
             ],
             [
              0.1111111111111111,
              "#46039f"
             ],
             [
              0.2222222222222222,
              "#7201a8"
             ],
             [
              0.3333333333333333,
              "#9c179e"
             ],
             [
              0.4444444444444444,
              "#bd3786"
             ],
             [
              0.5555555555555556,
              "#d8576b"
             ],
             [
              0.6666666666666666,
              "#ed7953"
             ],
             [
              0.7777777777777778,
              "#fb9f3a"
             ],
             [
              0.8888888888888888,
              "#fdca26"
             ],
             [
              1,
              "#f0f921"
             ]
            ],
            "type": "histogram2dcontour"
           }
          ],
          "mesh3d": [
           {
            "colorbar": {
             "outlinewidth": 0,
             "ticks": ""
            },
            "type": "mesh3d"
           }
          ],
          "parcoords": [
           {
            "line": {
             "colorbar": {
              "outlinewidth": 0,
              "ticks": ""
             }
            },
            "type": "parcoords"
           }
          ],
          "pie": [
           {
            "automargin": true,
            "type": "pie"
           }
          ],
          "scatter": [
           {
            "fillpattern": {
             "fillmode": "overlay",
             "size": 10,
             "solidity": 0.2
            },
            "type": "scatter"
           }
          ],
          "scatter3d": [
           {
            "line": {
             "colorbar": {
              "outlinewidth": 0,
              "ticks": ""
             }
            },
            "marker": {
             "colorbar": {
              "outlinewidth": 0,
              "ticks": ""
             }
            },
            "type": "scatter3d"
           }
          ],
          "scattercarpet": [
           {
            "marker": {
             "colorbar": {
              "outlinewidth": 0,
              "ticks": ""
             }
            },
            "type": "scattercarpet"
           }
          ],
          "scattergeo": [
           {
            "marker": {
             "colorbar": {
              "outlinewidth": 0,
              "ticks": ""
             }
            },
            "type": "scattergeo"
           }
          ],
          "scattergl": [
           {
            "marker": {
             "colorbar": {
              "outlinewidth": 0,
              "ticks": ""
             }
            },
            "type": "scattergl"
           }
          ],
          "scattermapbox": [
           {
            "marker": {
             "colorbar": {
              "outlinewidth": 0,
              "ticks": ""
             }
            },
            "type": "scattermapbox"
           }
          ],
          "scatterpolar": [
           {
            "marker": {
             "colorbar": {
              "outlinewidth": 0,
              "ticks": ""
             }
            },
            "type": "scatterpolar"
           }
          ],
          "scatterpolargl": [
           {
            "marker": {
             "colorbar": {
              "outlinewidth": 0,
              "ticks": ""
             }
            },
            "type": "scatterpolargl"
           }
          ],
          "scatterternary": [
           {
            "marker": {
             "colorbar": {
              "outlinewidth": 0,
              "ticks": ""
             }
            },
            "type": "scatterternary"
           }
          ],
          "surface": [
           {
            "colorbar": {
             "outlinewidth": 0,
             "ticks": ""
            },
            "colorscale": [
             [
              0,
              "#0d0887"
             ],
             [
              0.1111111111111111,
              "#46039f"
             ],
             [
              0.2222222222222222,
              "#7201a8"
             ],
             [
              0.3333333333333333,
              "#9c179e"
             ],
             [
              0.4444444444444444,
              "#bd3786"
             ],
             [
              0.5555555555555556,
              "#d8576b"
             ],
             [
              0.6666666666666666,
              "#ed7953"
             ],
             [
              0.7777777777777778,
              "#fb9f3a"
             ],
             [
              0.8888888888888888,
              "#fdca26"
             ],
             [
              1,
              "#f0f921"
             ]
            ],
            "type": "surface"
           }
          ],
          "table": [
           {
            "cells": {
             "fill": {
              "color": "#EBF0F8"
             },
             "line": {
              "color": "white"
             }
            },
            "header": {
             "fill": {
              "color": "#C8D4E3"
             },
             "line": {
              "color": "white"
             }
            },
            "type": "table"
           }
          ]
         },
         "layout": {
          "annotationdefaults": {
           "arrowcolor": "#2a3f5f",
           "arrowhead": 0,
           "arrowwidth": 1
          },
          "autotypenumbers": "strict",
          "coloraxis": {
           "colorbar": {
            "outlinewidth": 0,
            "ticks": ""
           }
          },
          "colorscale": {
           "diverging": [
            [
             0,
             "#8e0152"
            ],
            [
             0.1,
             "#c51b7d"
            ],
            [
             0.2,
             "#de77ae"
            ],
            [
             0.3,
             "#f1b6da"
            ],
            [
             0.4,
             "#fde0ef"
            ],
            [
             0.5,
             "#f7f7f7"
            ],
            [
             0.6,
             "#e6f5d0"
            ],
            [
             0.7,
             "#b8e186"
            ],
            [
             0.8,
             "#7fbc41"
            ],
            [
             0.9,
             "#4d9221"
            ],
            [
             1,
             "#276419"
            ]
           ],
           "sequential": [
            [
             0,
             "#0d0887"
            ],
            [
             0.1111111111111111,
             "#46039f"
            ],
            [
             0.2222222222222222,
             "#7201a8"
            ],
            [
             0.3333333333333333,
             "#9c179e"
            ],
            [
             0.4444444444444444,
             "#bd3786"
            ],
            [
             0.5555555555555556,
             "#d8576b"
            ],
            [
             0.6666666666666666,
             "#ed7953"
            ],
            [
             0.7777777777777778,
             "#fb9f3a"
            ],
            [
             0.8888888888888888,
             "#fdca26"
            ],
            [
             1,
             "#f0f921"
            ]
           ],
           "sequentialminus": [
            [
             0,
             "#0d0887"
            ],
            [
             0.1111111111111111,
             "#46039f"
            ],
            [
             0.2222222222222222,
             "#7201a8"
            ],
            [
             0.3333333333333333,
             "#9c179e"
            ],
            [
             0.4444444444444444,
             "#bd3786"
            ],
            [
             0.5555555555555556,
             "#d8576b"
            ],
            [
             0.6666666666666666,
             "#ed7953"
            ],
            [
             0.7777777777777778,
             "#fb9f3a"
            ],
            [
             0.8888888888888888,
             "#fdca26"
            ],
            [
             1,
             "#f0f921"
            ]
           ]
          },
          "colorway": [
           "#636efa",
           "#EF553B",
           "#00cc96",
           "#ab63fa",
           "#FFA15A",
           "#19d3f3",
           "#FF6692",
           "#B6E880",
           "#FF97FF",
           "#FECB52"
          ],
          "font": {
           "color": "#2a3f5f"
          },
          "geo": {
           "bgcolor": "white",
           "lakecolor": "white",
           "landcolor": "#E5ECF6",
           "showlakes": true,
           "showland": true,
           "subunitcolor": "white"
          },
          "hoverlabel": {
           "align": "left"
          },
          "hovermode": "closest",
          "mapbox": {
           "style": "light"
          },
          "paper_bgcolor": "white",
          "plot_bgcolor": "#E5ECF6",
          "polar": {
           "angularaxis": {
            "gridcolor": "white",
            "linecolor": "white",
            "ticks": ""
           },
           "bgcolor": "#E5ECF6",
           "radialaxis": {
            "gridcolor": "white",
            "linecolor": "white",
            "ticks": ""
           }
          },
          "scene": {
           "xaxis": {
            "backgroundcolor": "#E5ECF6",
            "gridcolor": "white",
            "gridwidth": 2,
            "linecolor": "white",
            "showbackground": true,
            "ticks": "",
            "zerolinecolor": "white"
           },
           "yaxis": {
            "backgroundcolor": "#E5ECF6",
            "gridcolor": "white",
            "gridwidth": 2,
            "linecolor": "white",
            "showbackground": true,
            "ticks": "",
            "zerolinecolor": "white"
           },
           "zaxis": {
            "backgroundcolor": "#E5ECF6",
            "gridcolor": "white",
            "gridwidth": 2,
            "linecolor": "white",
            "showbackground": true,
            "ticks": "",
            "zerolinecolor": "white"
           }
          },
          "shapedefaults": {
           "line": {
            "color": "#2a3f5f"
           }
          },
          "ternary": {
           "aaxis": {
            "gridcolor": "white",
            "linecolor": "white",
            "ticks": ""
           },
           "baxis": {
            "gridcolor": "white",
            "linecolor": "white",
            "ticks": ""
           },
           "bgcolor": "#E5ECF6",
           "caxis": {
            "gridcolor": "white",
            "linecolor": "white",
            "ticks": ""
           }
          },
          "title": {
           "x": 0.05
          },
          "xaxis": {
           "automargin": true,
           "gridcolor": "white",
           "linecolor": "white",
           "ticks": "",
           "title": {
            "standoff": 15
           },
           "zerolinecolor": "white",
           "zerolinewidth": 2
          },
          "yaxis": {
           "automargin": true,
           "gridcolor": "white",
           "linecolor": "white",
           "ticks": "",
           "title": {
            "standoff": 15
           },
           "zerolinecolor": "white",
           "zerolinewidth": 2
          }
         }
        },
        "title": {
         "text": "第一次演講回答次數表"
        },
        "xaxis": {
         "anchor": "y",
         "domain": [
          0,
          1
         ],
         "title": {
          "text": "作者"
         }
        },
        "yaxis": {
         "anchor": "x",
         "domain": [
          0,
          1
         ],
         "title": {
          "text": "回答次數"
         }
        }
       }
      },
      "text/html": [
       "<div>                            <div id=\"712820ac-8850-4f68-bcd3-81f78c0b1974\" class=\"plotly-graph-div\" style=\"height:525px; width:100%;\"></div>            <script type=\"text/javascript\">                require([\"plotly\"], function(Plotly) {                    window.PLOTLYENV=window.PLOTLYENV || {};                                    if (document.getElementById(\"712820ac-8850-4f68-bcd3-81f78c0b1974\")) {                    Plotly.newPlot(                        \"712820ac-8850-4f68-bcd3-81f78c0b1974\",                        [{\"alignmentgroup\":\"True\",\"hovertemplate\":\"\\u4f5c\\u8005=%{x}<br>\\u56de\\u7b54\\u6b21\\u6578=%{y}<extra></extra>\",\"legendgroup\":\"\",\"marker\":{\"color\":\"#636efa\",\"pattern\":{\"shape\":\"\"}},\"name\":\"\",\"offsetgroup\":\"\",\"orientation\":\"v\",\"showlegend\":false,\"textposition\":\"auto\",\"x\":[\"Anonymous\",\"\\u859b\\u96c5\\u4e91\",\"60771026H_\\u5f35\\u66e6\\u822b\",\"\\u5f35\\u80b2\\u5609(61071010H)\",\"61071015h\",\"61071001H\",\"61071014h\",\"61071020h\",\"61071007H\",\"PEI LUNG\",\"61071027h\",\"61071003H\",\"60971042H\",\"60971018H_\\u7fc1\\u5b50\\u6db5\",\"61071011h\",\"61071005h\",\"\\u8521\\u5b5f\\u8fb0\",\"60971041H\",\"61071016H\",\"\\u5433\\u8a69\\u602161071009H\",\"60971038h_\\u9673\\u598d\\u975c\",\"61071021H\",\"61071006H\",\"60971031H\",\"61071031H\",\"61071008H\",\"\\u66fe\\u54c1\\u7fd4\",\"60971032H\"],\"xaxis\":\"x\",\"y\":[17,3,4,2,2,4,2,1,3,4,1,3,3,1,2,3,1,2,6,1,1,2,2,1,2,2,1,1],\"yaxis\":\"y\",\"type\":\"bar\"}],                        {\"template\":{\"data\":{\"histogram2dcontour\":[{\"type\":\"histogram2dcontour\",\"colorbar\":{\"outlinewidth\":0,\"ticks\":\"\"},\"colorscale\":[[0.0,\"#0d0887\"],[0.1111111111111111,\"#46039f\"],[0.2222222222222222,\"#7201a8\"],[0.3333333333333333,\"#9c179e\"],[0.4444444444444444,\"#bd3786\"],[0.5555555555555556,\"#d8576b\"],[0.6666666666666666,\"#ed7953\"],[0.7777777777777778,\"#fb9f3a\"],[0.8888888888888888,\"#fdca26\"],[1.0,\"#f0f921\"]]}],\"choropleth\":[{\"type\":\"choropleth\",\"colorbar\":{\"outlinewidth\":0,\"ticks\":\"\"}}],\"histogram2d\":[{\"type\":\"histogram2d\",\"colorbar\":{\"outlinewidth\":0,\"ticks\":\"\"},\"colorscale\":[[0.0,\"#0d0887\"],[0.1111111111111111,\"#46039f\"],[0.2222222222222222,\"#7201a8\"],[0.3333333333333333,\"#9c179e\"],[0.4444444444444444,\"#bd3786\"],[0.5555555555555556,\"#d8576b\"],[0.6666666666666666,\"#ed7953\"],[0.7777777777777778,\"#fb9f3a\"],[0.8888888888888888,\"#fdca26\"],[1.0,\"#f0f921\"]]}],\"heatmap\":[{\"type\":\"heatmap\",\"colorbar\":{\"outlinewidth\":0,\"ticks\":\"\"},\"colorscale\":[[0.0,\"#0d0887\"],[0.1111111111111111,\"#46039f\"],[0.2222222222222222,\"#7201a8\"],[0.3333333333333333,\"#9c179e\"],[0.4444444444444444,\"#bd3786\"],[0.5555555555555556,\"#d8576b\"],[0.6666666666666666,\"#ed7953\"],[0.7777777777777778,\"#fb9f3a\"],[0.8888888888888888,\"#fdca26\"],[1.0,\"#f0f921\"]]}],\"heatmapgl\":[{\"type\":\"heatmapgl\",\"colorbar\":{\"outlinewidth\":0,\"ticks\":\"\"},\"colorscale\":[[0.0,\"#0d0887\"],[0.1111111111111111,\"#46039f\"],[0.2222222222222222,\"#7201a8\"],[0.3333333333333333,\"#9c179e\"],[0.4444444444444444,\"#bd3786\"],[0.5555555555555556,\"#d8576b\"],[0.6666666666666666,\"#ed7953\"],[0.7777777777777778,\"#fb9f3a\"],[0.8888888888888888,\"#fdca26\"],[1.0,\"#f0f921\"]]}],\"contourcarpet\":[{\"type\":\"contourcarpet\",\"colorbar\":{\"outlinewidth\":0,\"ticks\":\"\"}}],\"contour\":[{\"type\":\"contour\",\"colorbar\":{\"outlinewidth\":0,\"ticks\":\"\"},\"colorscale\":[[0.0,\"#0d0887\"],[0.1111111111111111,\"#46039f\"],[0.2222222222222222,\"#7201a8\"],[0.3333333333333333,\"#9c179e\"],[0.4444444444444444,\"#bd3786\"],[0.5555555555555556,\"#d8576b\"],[0.6666666666666666,\"#ed7953\"],[0.7777777777777778,\"#fb9f3a\"],[0.8888888888888888,\"#fdca26\"],[1.0,\"#f0f921\"]]}],\"surface\":[{\"type\":\"surface\",\"colorbar\":{\"outlinewidth\":0,\"ticks\":\"\"},\"colorscale\":[[0.0,\"#0d0887\"],[0.1111111111111111,\"#46039f\"],[0.2222222222222222,\"#7201a8\"],[0.3333333333333333,\"#9c179e\"],[0.4444444444444444,\"#bd3786\"],[0.5555555555555556,\"#d8576b\"],[0.6666666666666666,\"#ed7953\"],[0.7777777777777778,\"#fb9f3a\"],[0.8888888888888888,\"#fdca26\"],[1.0,\"#f0f921\"]]}],\"mesh3d\":[{\"type\":\"mesh3d\",\"colorbar\":{\"outlinewidth\":0,\"ticks\":\"\"}}],\"scatter\":[{\"fillpattern\":{\"fillmode\":\"overlay\",\"size\":10,\"solidity\":0.2},\"type\":\"scatter\"}],\"parcoords\":[{\"type\":\"parcoords\",\"line\":{\"colorbar\":{\"outlinewidth\":0,\"ticks\":\"\"}}}],\"scatterpolargl\":[{\"type\":\"scatterpolargl\",\"marker\":{\"colorbar\":{\"outlinewidth\":0,\"ticks\":\"\"}}}],\"bar\":[{\"error_x\":{\"color\":\"#2a3f5f\"},\"error_y\":{\"color\":\"#2a3f5f\"},\"marker\":{\"line\":{\"color\":\"#E5ECF6\",\"width\":0.5},\"pattern\":{\"fillmode\":\"overlay\",\"size\":10,\"solidity\":0.2}},\"type\":\"bar\"}],\"scattergeo\":[{\"type\":\"scattergeo\",\"marker\":{\"colorbar\":{\"outlinewidth\":0,\"ticks\":\"\"}}}],\"scatterpolar\":[{\"type\":\"scatterpolar\",\"marker\":{\"colorbar\":{\"outlinewidth\":0,\"ticks\":\"\"}}}],\"histogram\":[{\"marker\":{\"pattern\":{\"fillmode\":\"overlay\",\"size\":10,\"solidity\":0.2}},\"type\":\"histogram\"}],\"scattergl\":[{\"type\":\"scattergl\",\"marker\":{\"colorbar\":{\"outlinewidth\":0,\"ticks\":\"\"}}}],\"scatter3d\":[{\"type\":\"scatter3d\",\"line\":{\"colorbar\":{\"outlinewidth\":0,\"ticks\":\"\"}},\"marker\":{\"colorbar\":{\"outlinewidth\":0,\"ticks\":\"\"}}}],\"scattermapbox\":[{\"type\":\"scattermapbox\",\"marker\":{\"colorbar\":{\"outlinewidth\":0,\"ticks\":\"\"}}}],\"scatterternary\":[{\"type\":\"scatterternary\",\"marker\":{\"colorbar\":{\"outlinewidth\":0,\"ticks\":\"\"}}}],\"scattercarpet\":[{\"type\":\"scattercarpet\",\"marker\":{\"colorbar\":{\"outlinewidth\":0,\"ticks\":\"\"}}}],\"carpet\":[{\"aaxis\":{\"endlinecolor\":\"#2a3f5f\",\"gridcolor\":\"white\",\"linecolor\":\"white\",\"minorgridcolor\":\"white\",\"startlinecolor\":\"#2a3f5f\"},\"baxis\":{\"endlinecolor\":\"#2a3f5f\",\"gridcolor\":\"white\",\"linecolor\":\"white\",\"minorgridcolor\":\"white\",\"startlinecolor\":\"#2a3f5f\"},\"type\":\"carpet\"}],\"table\":[{\"cells\":{\"fill\":{\"color\":\"#EBF0F8\"},\"line\":{\"color\":\"white\"}},\"header\":{\"fill\":{\"color\":\"#C8D4E3\"},\"line\":{\"color\":\"white\"}},\"type\":\"table\"}],\"barpolar\":[{\"marker\":{\"line\":{\"color\":\"#E5ECF6\",\"width\":0.5},\"pattern\":{\"fillmode\":\"overlay\",\"size\":10,\"solidity\":0.2}},\"type\":\"barpolar\"}],\"pie\":[{\"automargin\":true,\"type\":\"pie\"}]},\"layout\":{\"autotypenumbers\":\"strict\",\"colorway\":[\"#636efa\",\"#EF553B\",\"#00cc96\",\"#ab63fa\",\"#FFA15A\",\"#19d3f3\",\"#FF6692\",\"#B6E880\",\"#FF97FF\",\"#FECB52\"],\"font\":{\"color\":\"#2a3f5f\"},\"hovermode\":\"closest\",\"hoverlabel\":{\"align\":\"left\"},\"paper_bgcolor\":\"white\",\"plot_bgcolor\":\"#E5ECF6\",\"polar\":{\"bgcolor\":\"#E5ECF6\",\"angularaxis\":{\"gridcolor\":\"white\",\"linecolor\":\"white\",\"ticks\":\"\"},\"radialaxis\":{\"gridcolor\":\"white\",\"linecolor\":\"white\",\"ticks\":\"\"}},\"ternary\":{\"bgcolor\":\"#E5ECF6\",\"aaxis\":{\"gridcolor\":\"white\",\"linecolor\":\"white\",\"ticks\":\"\"},\"baxis\":{\"gridcolor\":\"white\",\"linecolor\":\"white\",\"ticks\":\"\"},\"caxis\":{\"gridcolor\":\"white\",\"linecolor\":\"white\",\"ticks\":\"\"}},\"coloraxis\":{\"colorbar\":{\"outlinewidth\":0,\"ticks\":\"\"}},\"colorscale\":{\"sequential\":[[0.0,\"#0d0887\"],[0.1111111111111111,\"#46039f\"],[0.2222222222222222,\"#7201a8\"],[0.3333333333333333,\"#9c179e\"],[0.4444444444444444,\"#bd3786\"],[0.5555555555555556,\"#d8576b\"],[0.6666666666666666,\"#ed7953\"],[0.7777777777777778,\"#fb9f3a\"],[0.8888888888888888,\"#fdca26\"],[1.0,\"#f0f921\"]],\"sequentialminus\":[[0.0,\"#0d0887\"],[0.1111111111111111,\"#46039f\"],[0.2222222222222222,\"#7201a8\"],[0.3333333333333333,\"#9c179e\"],[0.4444444444444444,\"#bd3786\"],[0.5555555555555556,\"#d8576b\"],[0.6666666666666666,\"#ed7953\"],[0.7777777777777778,\"#fb9f3a\"],[0.8888888888888888,\"#fdca26\"],[1.0,\"#f0f921\"]],\"diverging\":[[0,\"#8e0152\"],[0.1,\"#c51b7d\"],[0.2,\"#de77ae\"],[0.3,\"#f1b6da\"],[0.4,\"#fde0ef\"],[0.5,\"#f7f7f7\"],[0.6,\"#e6f5d0\"],[0.7,\"#b8e186\"],[0.8,\"#7fbc41\"],[0.9,\"#4d9221\"],[1,\"#276419\"]]},\"xaxis\":{\"gridcolor\":\"white\",\"linecolor\":\"white\",\"ticks\":\"\",\"title\":{\"standoff\":15},\"zerolinecolor\":\"white\",\"automargin\":true,\"zerolinewidth\":2},\"yaxis\":{\"gridcolor\":\"white\",\"linecolor\":\"white\",\"ticks\":\"\",\"title\":{\"standoff\":15},\"zerolinecolor\":\"white\",\"automargin\":true,\"zerolinewidth\":2},\"scene\":{\"xaxis\":{\"backgroundcolor\":\"#E5ECF6\",\"gridcolor\":\"white\",\"linecolor\":\"white\",\"showbackground\":true,\"ticks\":\"\",\"zerolinecolor\":\"white\",\"gridwidth\":2},\"yaxis\":{\"backgroundcolor\":\"#E5ECF6\",\"gridcolor\":\"white\",\"linecolor\":\"white\",\"showbackground\":true,\"ticks\":\"\",\"zerolinecolor\":\"white\",\"gridwidth\":2},\"zaxis\":{\"backgroundcolor\":\"#E5ECF6\",\"gridcolor\":\"white\",\"linecolor\":\"white\",\"showbackground\":true,\"ticks\":\"\",\"zerolinecolor\":\"white\",\"gridwidth\":2}},\"shapedefaults\":{\"line\":{\"color\":\"#2a3f5f\"}},\"annotationdefaults\":{\"arrowcolor\":\"#2a3f5f\",\"arrowhead\":0,\"arrowwidth\":1},\"geo\":{\"bgcolor\":\"white\",\"landcolor\":\"#E5ECF6\",\"subunitcolor\":\"white\",\"showland\":true,\"showlakes\":true,\"lakecolor\":\"white\"},\"title\":{\"x\":0.05},\"mapbox\":{\"style\":\"light\"}}},\"xaxis\":{\"anchor\":\"y\",\"domain\":[0.0,1.0],\"title\":{\"text\":\"\\u4f5c\\u8005\"}},\"yaxis\":{\"anchor\":\"x\",\"domain\":[0.0,1.0],\"title\":{\"text\":\"\\u56de\\u7b54\\u6b21\\u6578\"}},\"legend\":{\"tracegroupgap\":0},\"title\":{\"text\":\"\\u7b2c\\u4e00\\u6b21\\u6f14\\u8b1b\\u56de\\u7b54\\u6b21\\u6578\\u8868\"},\"barmode\":\"relative\"},                        {\"responsive\": true}                    ).then(function(){\n",
       "                            \n",
       "var gd = document.getElementById('712820ac-8850-4f68-bcd3-81f78c0b1974');\n",
       "var x = new MutationObserver(function (mutations, observer) {{\n",
       "        var display = window.getComputedStyle(gd).display;\n",
       "        if (!display || display === 'none') {{\n",
       "            console.log([gd, 'removed!']);\n",
       "            Plotly.purge(gd);\n",
       "            observer.disconnect();\n",
       "        }}\n",
       "}});\n",
       "\n",
       "// Listen for the removal of the full notebook cells\n",
       "var notebookContainer = gd.closest('#notebook-container');\n",
       "if (notebookContainer) {{\n",
       "    x.observe(notebookContainer, {childList: true});\n",
       "}}\n",
       "\n",
       "// Listen for the clearing of the current output cell\n",
       "var outputEl = gd.closest('.output');\n",
       "if (outputEl) {{\n",
       "    x.observe(outputEl, {childList: true});\n",
       "}}\n",
       "\n",
       "                        })                };                });            </script>        </div>"
      ]
     },
     "metadata": {},
     "output_type": "display_data"
    }
   ],
   "source": [
    "#資料視覺化\n",
    "import plotly.express as px\n",
    "import pandas as pd\n",
    "px.bar(result,x=\"作者\",y=\"回答次數\",title=\"第一次演講回答次數表\")"
   ]
  },
  {
   "cell_type": "code",
   "execution_count": 93,
   "id": "cfc13a9b",
   "metadata": {},
   "outputs": [
    {
     "data": {
      "text/html": [
       "<div>\n",
       "<style scoped>\n",
       "    .dataframe tbody tr th:only-of-type {\n",
       "        vertical-align: middle;\n",
       "    }\n",
       "\n",
       "    .dataframe tbody tr th {\n",
       "        vertical-align: top;\n",
       "    }\n",
       "\n",
       "    .dataframe thead th {\n",
       "        text-align: right;\n",
       "    }\n",
       "</style>\n",
       "<table border=\"1\" class=\"dataframe\">\n",
       "  <thead>\n",
       "    <tr style=\"text-align: right;\">\n",
       "      <th></th>\n",
       "      <th>作者</th>\n",
       "      <th>內容</th>\n",
       "      <th>項目</th>\n",
       "    </tr>\n",
       "  </thead>\n",
       "  <tbody>\n",
       "    <tr>\n",
       "      <th>0</th>\n",
       "      <td>Anonymous</td>\n",
       "      <td>老師好帥～想問老師現在有伴侶嗎？</td>\n",
       "      <td>[老師, 伴侶]</td>\n",
       "    </tr>\n",
       "    <tr>\n",
       "      <th>2</th>\n",
       "      <td>Anonymous</td>\n",
       "      <td>既然那麼討厭台灣，為什麼不以自願取得外國國籍，放棄台灣國籍身份？</td>\n",
       "      <td>[討厭, 台灣, 自願, 外國國籍, 放棄, 台灣國籍, 身份, 取得]</td>\n",
       "    </tr>\n",
       "    <tr>\n",
       "      <th>4</th>\n",
       "      <td>Anonymous</td>\n",
       "      <td>想請問保養的祕訣</td>\n",
       "      <td>[]</td>\n",
       "    </tr>\n",
       "    <tr>\n",
       "      <th>6</th>\n",
       "      <td>Anonymous</td>\n",
       "      <td>請問要如何兼顧事業與愛情?</td>\n",
       "      <td>[兼顧, 事業, 愛情]</td>\n",
       "    </tr>\n",
       "    <tr>\n",
       "      <th>7</th>\n",
       "      <td>Anonymous</td>\n",
       "      <td>請問如果以您的觀點來說，台灣是個偽善充滿詐欺的地方，那麼世界上其他國家呢？如果全世界大多數國...</td>\n",
       "      <td>[台灣, 觀點, 偽善, 國家, 相處, 離開, 如果, 方法, 世界, 全世界, 大多, ...</td>\n",
       "    </tr>\n",
       "    <tr>\n",
       "      <th>14</th>\n",
       "      <td>Anonymous</td>\n",
       "      <td>想請老師用一句話總結自己目前的人生</td>\n",
       "      <td>[總結, 人生, 一句, 目前, 自己]</td>\n",
       "    </tr>\n",
       "    <tr>\n",
       "      <th>15</th>\n",
       "      <td>Anonymous</td>\n",
       "      <td>台灣如此可怕，該逃去哪個國家?</td>\n",
       "      <td>[台灣, 國家, 可怕]</td>\n",
       "    </tr>\n",
       "    <tr>\n",
       "      <th>19</th>\n",
       "      <td>Anonymous</td>\n",
       "      <td>請問您的理想是什麼？</td>\n",
       "      <td>[理想]</td>\n",
       "    </tr>\n",
       "    <tr>\n",
       "      <th>25</th>\n",
       "      <td>Anonymous</td>\n",
       "      <td>好奇老師您之前最高的年薪有多少</td>\n",
       "      <td>[老師, 年薪, 好奇, 多少, 之前, 最高]</td>\n",
       "    </tr>\n",
       "    <tr>\n",
       "      <th>42</th>\n",
       "      <td>Anonymous</td>\n",
       "      <td>區塊鏈該如何入門?網路平台有許多nft詐騙的經驗與分享，不斷勸退大家，所以想聽聽講師如何入門...</td>\n",
       "      <td>[入門, 區塊鏈, 網路, nft, 詐騙, 經驗, 講師, 平台, 安全]</td>\n",
       "    </tr>\n",
       "    <tr>\n",
       "      <th>47</th>\n",
       "      <td>Anonymous</td>\n",
       "      <td>Anonymous\\t什麼樣的事情對您是有意義的？除了金錢以外呢？</td>\n",
       "      <td>[Anonymous, 什麼樣, 金錢, 有意, 除了, 事情]</td>\n",
       "    </tr>\n",
       "    <tr>\n",
       "      <th>63</th>\n",
       "      <td>Anonymous</td>\n",
       "      <td>對於虛擬貨幣、NFT正泡沫化這件事情您怎麼看？</td>\n",
       "      <td>[虛擬, 貨幣, NFT, 泡沫化, 事情]</td>\n",
       "    </tr>\n",
       "    <tr>\n",
       "      <th>70</th>\n",
       "      <td>Anonymous</td>\n",
       "      <td>請問有玩tinder嗎</td>\n",
       "      <td>[問有, tinder]</td>\n",
       "    </tr>\n",
       "    <tr>\n",
       "      <th>72</th>\n",
       "      <td>Anonymous</td>\n",
       "      <td>請問您認為單單依靠先進思維就可以讓台灣超英趕美嗎？</td>\n",
       "      <td>[超英, 認為, 先進, 思維, 台灣, 趕美, 依靠, 可以]</td>\n",
       "    </tr>\n",
       "    <tr>\n",
       "      <th>74</th>\n",
       "      <td>Anonymous</td>\n",
       "      <td>請問您怎麼看待中國崛起？</td>\n",
       "      <td>[中國, 看待, 崛起]</td>\n",
       "    </tr>\n",
       "    <tr>\n",
       "      <th>75</th>\n",
       "      <td>Anonymous</td>\n",
       "      <td>請問加盟哪個品牌</td>\n",
       "      <td>[加盟, 品牌]</td>\n",
       "    </tr>\n",
       "    <tr>\n",
       "      <th>76</th>\n",
       "      <td>Anonymous</td>\n",
       "      <td>老師你家浴缸長怎樣</td>\n",
       "      <td>[浴缸, 老師, 你家]</td>\n",
       "    </tr>\n",
       "  </tbody>\n",
       "</table>\n",
       "</div>"
      ],
      "text/plain": [
       "           作者                                                 內容  \\\n",
       "0   Anonymous                                   老師好帥～想問老師現在有伴侶嗎？   \n",
       "2   Anonymous                   既然那麼討厭台灣，為什麼不以自願取得外國國籍，放棄台灣國籍身份？   \n",
       "4   Anonymous                                           想請問保養的祕訣   \n",
       "6   Anonymous                                      請問要如何兼顧事業與愛情?   \n",
       "7   Anonymous  請問如果以您的觀點來說，台灣是個偽善充滿詐欺的地方，那麼世界上其他國家呢？如果全世界大多數國...   \n",
       "14  Anonymous                                  想請老師用一句話總結自己目前的人生   \n",
       "15  Anonymous                                    台灣如此可怕，該逃去哪個國家?   \n",
       "19  Anonymous                                         請問您的理想是什麼？   \n",
       "25  Anonymous                                    好奇老師您之前最高的年薪有多少   \n",
       "42  Anonymous  區塊鏈該如何入門?網路平台有許多nft詐騙的經驗與分享，不斷勸退大家，所以想聽聽講師如何入門...   \n",
       "47  Anonymous                  Anonymous\\t什麼樣的事情對您是有意義的？除了金錢以外呢？   \n",
       "63  Anonymous                            對於虛擬貨幣、NFT正泡沫化這件事情您怎麼看？   \n",
       "70  Anonymous                                        請問有玩tinder嗎   \n",
       "72  Anonymous                          請問您認為單單依靠先進思維就可以讓台灣超英趕美嗎？   \n",
       "74  Anonymous                                       請問您怎麼看待中國崛起？   \n",
       "75  Anonymous                                           請問加盟哪個品牌   \n",
       "76  Anonymous                                          老師你家浴缸長怎樣   \n",
       "\n",
       "                                                   項目  \n",
       "0                                            [老師, 伴侶]  \n",
       "2                [討厭, 台灣, 自願, 外國國籍, 放棄, 台灣國籍, 身份, 取得]  \n",
       "4                                                  []  \n",
       "6                                        [兼顧, 事業, 愛情]  \n",
       "7   [台灣, 觀點, 偽善, 國家, 相處, 離開, 如果, 方法, 世界, 全世界, 大多, ...  \n",
       "14                               [總結, 人生, 一句, 目前, 自己]  \n",
       "15                                       [台灣, 國家, 可怕]  \n",
       "19                                               [理想]  \n",
       "25                           [老師, 年薪, 好奇, 多少, 之前, 最高]  \n",
       "42             [入門, 區塊鏈, 網路, nft, 詐騙, 經驗, 講師, 平台, 安全]  \n",
       "47                   [Anonymous, 什麼樣, 金錢, 有意, 除了, 事情]  \n",
       "63                             [虛擬, 貨幣, NFT, 泡沫化, 事情]  \n",
       "70                                       [問有, tinder]  \n",
       "72                   [超英, 認為, 先進, 思維, 台灣, 趕美, 依靠, 可以]  \n",
       "74                                       [中國, 看待, 崛起]  \n",
       "75                                           [加盟, 品牌]  \n",
       "76                                       [浴缸, 老師, 你家]  "
      ]
     },
     "execution_count": 93,
     "metadata": {},
     "output_type": "execute_result"
    }
   ],
   "source": [
    "show_sub=telldata[\"作者\"]==\"Anonymous\"#作者是這個人的時候\n",
    "subdata=telldata[show_sub]#用subdata放入是這個人的所有資料\n",
    "subdata"
   ]
  },
  {
   "cell_type": "code",
   "execution_count": 94,
   "id": "2e482dd7",
   "metadata": {},
   "outputs": [
    {
     "data": {
      "text/plain": [
       "pandas.core.series.Series"
      ]
     },
     "execution_count": 94,
     "metadata": {},
     "output_type": "execute_result"
    }
   ],
   "source": [
    "#這位作者他講的項目有哪些\n",
    "type(subdata[\"項目\"])#確認類型"
   ]
  },
  {
   "cell_type": "code",
   "execution_count": 95,
   "id": "c90c503a",
   "metadata": {},
   "outputs": [
    {
     "data": {
      "text/plain": [
       "list"
      ]
     },
     "execution_count": 95,
     "metadata": {},
     "output_type": "execute_result"
    }
   ],
   "source": [
    "telldata_import_list=subdata[\"項目\"].tolist()#將這個內容轉成表單\n",
    "type(telldata_import_list)"
   ]
  },
  {
   "cell_type": "code",
   "execution_count": 96,
   "id": "e4c480d7",
   "metadata": {},
   "outputs": [
    {
     "data": {
      "text/plain": [
       "[['老師', '伴侶'],\n",
       " ['討厭', '台灣', '自願', '外國國籍', '放棄', '台灣國籍', '身份', '取得'],\n",
       " [],\n",
       " ['兼顧', '事業', '愛情'],\n",
       " ['台灣',\n",
       "  '觀點',\n",
       "  '偽善',\n",
       "  '國家',\n",
       "  '相處',\n",
       "  '離開',\n",
       "  '如果',\n",
       "  '方法',\n",
       "  '世界',\n",
       "  '全世界',\n",
       "  '大多',\n",
       "  '地方',\n",
       "  '其他'],\n",
       " ['總結', '人生', '一句', '目前', '自己'],\n",
       " ['台灣', '國家', '可怕'],\n",
       " ['理想'],\n",
       " ['老師', '年薪', '好奇', '多少', '之前', '最高'],\n",
       " ['入門', '區塊鏈', '網路', 'nft', '詐騙', '經驗', '講師', '平台', '安全'],\n",
       " ['Anonymous', '什麼樣', '金錢', '有意', '除了', '事情'],\n",
       " ['虛擬', '貨幣', 'NFT', '泡沫化', '事情'],\n",
       " ['問有', 'tinder'],\n",
       " ['超英', '認為', '先進', '思維', '台灣', '趕美', '依靠', '可以'],\n",
       " ['中國', '看待', '崛起'],\n",
       " ['加盟', '品牌'],\n",
       " ['浴缸', '老師', '你家']]"
      ]
     },
     "execution_count": 96,
     "metadata": {},
     "output_type": "execute_result"
    }
   ],
   "source": [
    "telldata_import_list"
   ]
  },
  {
   "cell_type": "code",
   "execution_count": 97,
   "id": "7364ca74",
   "metadata": {},
   "outputs": [],
   "source": [
    "#根據上面再去調整一次你的關鍵字\n",
    "#中括號中有中括號，要拉成一整條"
   ]
  },
  {
   "cell_type": "code",
   "execution_count": 107,
   "id": "71c5a8aa",
   "metadata": {},
   "outputs": [
    {
     "data": {
      "text/plain": [
       "Counter({'老師': 3,\n",
       "         '伴侶': 1,\n",
       "         '討厭': 1,\n",
       "         '台灣': 4,\n",
       "         '自願': 1,\n",
       "         '外國國籍': 1,\n",
       "         '放棄': 1,\n",
       "         '台灣國籍': 1,\n",
       "         '身份': 1,\n",
       "         '取得': 1,\n",
       "         '兼顧': 1,\n",
       "         '事業': 1,\n",
       "         '愛情': 1,\n",
       "         '觀點': 1,\n",
       "         '偽善': 1,\n",
       "         '國家': 2,\n",
       "         '相處': 1,\n",
       "         '離開': 1,\n",
       "         '如果': 1,\n",
       "         '方法': 1,\n",
       "         '世界': 1,\n",
       "         '全世界': 1,\n",
       "         '大多': 1,\n",
       "         '地方': 1,\n",
       "         '其他': 1,\n",
       "         '總結': 1,\n",
       "         '人生': 1,\n",
       "         '一句': 1,\n",
       "         '目前': 1,\n",
       "         '自己': 1,\n",
       "         '可怕': 1,\n",
       "         '理想': 1,\n",
       "         '年薪': 1,\n",
       "         '好奇': 1,\n",
       "         '多少': 1,\n",
       "         '之前': 1,\n",
       "         '最高': 1,\n",
       "         '入門': 1,\n",
       "         '區塊鏈': 1,\n",
       "         '網路': 1,\n",
       "         'nft': 1,\n",
       "         '詐騙': 1,\n",
       "         '經驗': 1,\n",
       "         '講師': 1,\n",
       "         '平台': 1,\n",
       "         '安全': 1,\n",
       "         'Anonymous': 1,\n",
       "         '什麼樣': 1,\n",
       "         '金錢': 1,\n",
       "         '有意': 1,\n",
       "         '除了': 1,\n",
       "         '事情': 2,\n",
       "         '虛擬': 1,\n",
       "         '貨幣': 1,\n",
       "         'NFT': 1,\n",
       "         '泡沫化': 1,\n",
       "         '問有': 1,\n",
       "         'tinder': 1,\n",
       "         '超英': 1,\n",
       "         '認為': 1,\n",
       "         '先進': 1,\n",
       "         '思維': 1,\n",
       "         '趕美': 1,\n",
       "         '依靠': 1,\n",
       "         '可以': 1,\n",
       "         '中國': 1,\n",
       "         '看待': 1,\n",
       "         '崛起': 1,\n",
       "         '加盟': 1,\n",
       "         '品牌': 1,\n",
       "         '浴缸': 1,\n",
       "         '你家': 1})"
      ]
     },
     "execution_count": 107,
     "metadata": {},
     "output_type": "execute_result"
    }
   ],
   "source": [
    "flat=[x for sublist in telldata_import_list for x in sublist]#將所有東西都拆除掛號把它列出來\n",
    "diction=Counter(flat)\n",
    "diction"
   ]
  },
  {
   "cell_type": "code",
   "execution_count": null,
   "id": "78a18dfe",
   "metadata": {},
   "outputs": [],
   "source": []
  },
  {
   "cell_type": "code",
   "execution_count": 111,
   "id": "17b93933",
   "metadata": {},
   "outputs": [
    {
     "data": {
      "text/plain": [
       "dict_keys(['老師', '伴侶', '討厭', '台灣', '自願', '外國國籍', '放棄', '台灣國籍', '身份', '取得', '兼顧', '事業', '愛情', '觀點', '偽善', '國家', '相處', '離開', '如果', '方法', '世界', '全世界', '大多', '地方', '其他', '總結', '人生', '一句', '目前', '自己', '可怕', '理想', '年薪', '好奇', '多少', '之前', '最高', '入門', '區塊鏈', '網路', 'nft', '詐騙', '經驗', '講師', '平台', '安全', 'Anonymous', '什麼樣', '金錢', '有意', '除了', '事情', '虛擬', '貨幣', 'NFT', '泡沫化', '問有', 'tinder', '超英', '認為', '先進', '思維', '趕美', '依靠', '可以', '中國', '看待', '崛起', '加盟', '品牌', '浴缸', '你家'])"
      ]
     },
     "execution_count": 111,
     "metadata": {},
     "output_type": "execute_result"
    }
   ],
   "source": [
    "diction.keys()#挑出不重複的單詞"
   ]
  },
  {
   "cell_type": "code",
   "execution_count": 114,
   "id": "094d56d7",
   "metadata": {},
   "outputs": [
    {
     "name": "stdout",
     "output_type": "stream",
     "text": [
      "Collecting wordcloudNote: you may need to restart the kernel to use updated packages.\n",
      "\n",
      "  Downloading wordcloud-1.8.2.2-cp39-cp39-win_amd64.whl (153 kB)\n",
      "     -------------------------------------- 153.1/153.1 kB 1.3 MB/s eta 0:00:00\n",
      "Requirement already satisfied: matplotlib in c:\\users\\paylung\\anaconda3\\anaconda3_2\\lib\\site-packages (from wordcloud) (3.5.2)\n",
      "Requirement already satisfied: numpy>=1.6.1 in c:\\users\\paylung\\anaconda3\\anaconda3_2\\lib\\site-packages (from wordcloud) (1.21.5)\n",
      "Requirement already satisfied: pillow in c:\\users\\paylung\\anaconda3\\anaconda3_2\\lib\\site-packages (from wordcloud) (9.2.0)\n",
      "Requirement already satisfied: python-dateutil>=2.7 in c:\\users\\paylung\\anaconda3\\anaconda3_2\\lib\\site-packages (from matplotlib->wordcloud) (2.8.2)\n",
      "Requirement already satisfied: pyparsing>=2.2.1 in c:\\users\\paylung\\anaconda3\\anaconda3_2\\lib\\site-packages (from matplotlib->wordcloud) (3.0.9)\n",
      "Requirement already satisfied: kiwisolver>=1.0.1 in c:\\users\\paylung\\anaconda3\\anaconda3_2\\lib\\site-packages (from matplotlib->wordcloud) (1.4.2)\n",
      "Requirement already satisfied: fonttools>=4.22.0 in c:\\users\\paylung\\anaconda3\\anaconda3_2\\lib\\site-packages (from matplotlib->wordcloud) (4.25.0)\n",
      "Requirement already satisfied: cycler>=0.10 in c:\\users\\paylung\\anaconda3\\anaconda3_2\\lib\\site-packages (from matplotlib->wordcloud) (0.11.0)\n",
      "Requirement already satisfied: packaging>=20.0 in c:\\users\\paylung\\anaconda3\\anaconda3_2\\lib\\site-packages (from matplotlib->wordcloud) (21.3)\n",
      "Requirement already satisfied: six>=1.5 in c:\\users\\paylung\\anaconda3\\anaconda3_2\\lib\\site-packages (from python-dateutil>=2.7->matplotlib->wordcloud) (1.16.0)\n",
      "Installing collected packages: wordcloud\n",
      "Successfully installed wordcloud-1.8.2.2\n"
     ]
    }
   ],
   "source": [
    "#pip install wordcloud文字雲安裝"
   ]
  },
  {
   "cell_type": "code",
   "execution_count": 129,
   "id": "2a3e98be",
   "metadata": {},
   "outputs": [],
   "source": [
    "from PIL import Image\n",
    "import matplotlib.pyplot as plt\n",
    "from wordcloud import WordCloud"
   ]
  },
  {
   "cell_type": "code",
   "execution_count": 130,
   "id": "7ccebbff",
   "metadata": {},
   "outputs": [],
   "source": [
    "mask=np.array(Image.open(\"ntnu_icon.png\"))#用師大的校徽作排列的背景，需要存在同個資料夾\n",
    "font=\"C:\\Windows\\Fonts\\MSJH.TTC\"#詳細資料的檔名"
   ]
  },
  {
   "cell_type": "code",
   "execution_count": 131,
   "id": "9657671d",
   "metadata": {},
   "outputs": [
    {
     "data": {
      "text/plain": [
       "<wordcloud.wordcloud.WordCloud at 0x2cb75052fa0>"
      ]
     },
     "execution_count": 131,
     "metadata": {},
     "output_type": "execute_result"
    }
   ],
   "source": [
    "wordcloud=WordCloud(background_color=\"blue\",font_path=font,mask=mask)\n",
    "wordcloud.generate_from_frequencies(diction)"
   ]
  },
  {
   "cell_type": "code",
   "execution_count": 133,
   "id": "6677008d",
   "metadata": {},
   "outputs": [
    {
     "data": {
      "image/png": "[encoded data removed]",
      "text/plain": [
       "<Figure size 1500x1500 with 1 Axes>"
      ]
     },
     "metadata": {},
     "output_type": "display_data"
    }
   ],
   "source": [
    "plt.figure(figsize=(15,15))\n",
    "plt.imshow(wordcloud)\n",
    "plt.axis(\"off\")\n",
    "plt.show()"
   ]
  },
  {
   "cell_type": "code",
   "execution_count": null,
   "id": "23bf9053",
   "metadata": {},
   "outputs": [],
   "source": []
  }
 ],
 "metadata": {
  "kernelspec": {
   "display_name": "Python 3 (ipykernel)",
   "language": "python",
   "name": "python3"
  },
  "language_info": {
   "codemirror_mode": {
    "name": "ipython",
    "version": 3
   },
   "file_extension": ".py",
   "mimetype": "text/x-python",
   "name": "python",
   "nbconvert_exporter": "python",
   "pygments_lexer": "ipython3",
   "version": "3.9.13"
  }
 },
 "nbformat": 4,
 "nbformat_minor": 5
}
