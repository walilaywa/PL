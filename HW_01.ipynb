{
 "cells": [
  {
   "cell_type": "code",
   "execution_count": 1,
   "id": "949bf9d7",
   "metadata": {},
   "outputs": [],
   "source": [
    "import pandas as pd\n",
    "# read csv file\n",
    "allstudent = pd.read_csv(\"try_score.csv\",index_col=\"Unnamed: 0\")\n",
    "#index_col是用來設定要將哪一列為索引值(不然會自己出現索引值)"
   ]
  },
  {
   "cell_type": "code",
   "execution_count": 2,
   "id": "d1580759",
   "metadata": {},
   "outputs": [
    {
     "data": {
      "text/html": [
       "<div>\n",
       "<style scoped>\n",
       "    .dataframe tbody tr th:only-of-type {\n",
       "        vertical-align: middle;\n",
       "    }\n",
       "\n",
       "    .dataframe tbody tr th {\n",
       "        vertical-align: top;\n",
       "    }\n",
       "\n",
       "    .dataframe thead th {\n",
       "        text-align: right;\n",
       "    }\n",
       "</style>\n",
       "<table border=\"1\" class=\"dataframe\">\n",
       "  <thead>\n",
       "    <tr style=\"text-align: right;\">\n",
       "      <th></th>\n",
       "      <th>實作</th>\n",
       "      <th>考試</th>\n",
       "      <th>學習單</th>\n",
       "      <th>平時成績</th>\n",
       "      <th>總成績</th>\n",
       "    </tr>\n",
       "  </thead>\n",
       "  <tbody>\n",
       "    <tr>\n",
       "      <th>22</th>\n",
       "      <td>94</td>\n",
       "      <td>85</td>\n",
       "      <td>95</td>\n",
       "      <td>98</td>\n",
       "      <td>92.2</td>\n",
       "    </tr>\n",
       "    <tr>\n",
       "      <th>23</th>\n",
       "      <td>95</td>\n",
       "      <td>80</td>\n",
       "      <td>96</td>\n",
       "      <td>98</td>\n",
       "      <td>91.7</td>\n",
       "    </tr>\n",
       "    <tr>\n",
       "      <th>24</th>\n",
       "      <td>0</td>\n",
       "      <td>75</td>\n",
       "      <td>82</td>\n",
       "      <td>85</td>\n",
       "      <td>51.6</td>\n",
       "    </tr>\n",
       "    <tr>\n",
       "      <th>25</th>\n",
       "      <td>99</td>\n",
       "      <td>85</td>\n",
       "      <td>65</td>\n",
       "      <td>98</td>\n",
       "      <td>81.9</td>\n",
       "    </tr>\n",
       "    <tr>\n",
       "      <th>26</th>\n",
       "      <td>94</td>\n",
       "      <td>95</td>\n",
       "      <td>97</td>\n",
       "      <td>98</td>\n",
       "      <td>95.5</td>\n",
       "    </tr>\n",
       "  </tbody>\n",
       "</table>\n",
       "</div>"
      ],
      "text/plain": [
       "    實作  考試  學習單  平時成績   總成績\n",
       "22  94  85   95    98  92.2\n",
       "23  95  80   96    98  91.7\n",
       "24   0  75   82    85  51.6\n",
       "25  99  85   65    98  81.9\n",
       "26  94  95   97    98  95.5"
      ]
     },
     "execution_count": 2,
     "metadata": {},
     "output_type": "execute_result"
    }
   ],
   "source": [
    "allstudent.tail()\n",
    "#尾端學生的詳細資訊"
   ]
  },
  {
   "cell_type": "code",
   "execution_count": 3,
   "id": "5bd3f2e9",
   "metadata": {},
   "outputs": [
    {
     "name": "stdout",
     "output_type": "stream",
     "text": [
      "本班總人數: 26\n"
     ]
    }
   ],
   "source": [
    "handmade = list(allstudent['實作'])\n",
    "print(\"本班總人數:\", len(allstudent))"
   ]
  },
  {
   "cell_type": "code",
   "execution_count": 11,
   "id": "f0dbf6de",
   "metadata": {},
   "outputs": [
    {
     "name": "stdout",
     "output_type": "stream",
     "text": [
      "     實作  考試  學習單  平時成績   總成績\n",
      "1   0.0   0    0    60   0.0\n",
      "2   0.0  65    0    75  16.3\n",
      "3   4.0   0   75    85  59.8\n",
      "4   5.0  83   95    98  91.3\n",
      "5   5.0   0   95    85  70.9\n",
      "6   0.0   0    0    60   0.0\n",
      "7   0.0   0    0    60   0.0\n",
      "8   0.0  78   60    85  43.5\n",
      "9   5.0  75   70    98  81.8\n",
      "10  5.0   0    0    75  32.9\n",
      "11  0.0   0    0    60   0.0\n",
      "12  5.0   0    0    75  35.0\n",
      "13  5.0  73   70    98  79.5\n",
      "14  5.0  78   94    98  89.7\n",
      "15  5.0  75   95    98  88.6\n",
      "16  0.0   0    0    60   0.0\n",
      "17  5.0  75   65    98  77.3\n",
      "18  5.0  80   94    98  91.2\n",
      "19  5.0  88   94    98  93.6\n",
      "20  5.0  88   96    98  93.0\n",
      "21  5.0  68    0    85  50.3\n",
      "22  5.0  85   95    98  92.2\n",
      "23  5.0  80   96    98  91.7\n",
      "24  0.0  75   82    85  51.6\n",
      "25  5.0  85   65    98  81.9\n",
      "26  5.0  95   97    98  95.5\n"
     ]
    }
   ],
   "source": [
    "print(allstudent)"
   ]
  },
  {
   "cell_type": "code",
   "execution_count": 12,
   "id": "3365a318",
   "metadata": {},
   "outputs": [
    {
     "name": "stdout",
     "output_type": "stream",
     "text": [
      "      實作  考試  學習單  平時成績   總成績\n",
      "1   0.00   0    0    60   0.0\n",
      "2   0.00  65    0    75  16.3\n",
      "3   0.20   0   75    85  59.8\n",
      "4   0.25  83   95    98  91.3\n",
      "5   0.25   0   95    85  70.9\n",
      "6   0.00   0    0    60   0.0\n",
      "7   0.00   0    0    60   0.0\n",
      "8   0.00  78   60    85  43.5\n",
      "9   0.25  75   70    98  81.8\n",
      "10  0.25   0    0    75  32.9\n",
      "11  0.00   0    0    60   0.0\n",
      "12  0.25   0    0    75  35.0\n",
      "13  0.25  73   70    98  79.5\n",
      "14  0.25  78   94    98  89.7\n",
      "15  0.25  75   95    98  88.6\n",
      "16  0.00   0    0    60   0.0\n",
      "17  0.25  75   65    98  77.3\n",
      "18  0.25  80   94    98  91.2\n",
      "19  0.25  88   94    98  93.6\n",
      "20  0.25  88   96    98  93.0\n",
      "21  0.25  68    0    85  50.3\n",
      "22  0.25  85   95    98  92.2\n",
      "23  0.25  80   96    98  91.7\n",
      "24  0.00  75   82    85  51.6\n",
      "25  0.25  85   65    98  81.9\n",
      "26  0.25  95   97    98  95.5\n"
     ]
    }
   ],
   "source": [
    "allstudent[\"實作\"]=allstudent[\"實作\"]/20\n",
    "allstudent[\"實作\"]=round(allstudent[\"實作\"],2)\n",
    "print(allstudent)"
   ]
  },
  {
   "cell_type": "code",
   "execution_count": 10,
   "id": "ae94b4c9",
   "metadata": {},
   "outputs": [
    {
     "name": "stdout",
     "output_type": "stream",
     "text": [
      "     實作  考試  學習單  平時成績   總成績\n",
      "1   0.0   0    0    60   0.0\n",
      "2   0.0  65    0    75  16.3\n",
      "3   4.0   0   75    85  59.8\n",
      "4   5.0  83   95    98  91.3\n",
      "5   5.0   0   95    85  70.9\n",
      "6   0.0   0    0    60   0.0\n",
      "7   0.0   0    0    60   0.0\n",
      "8   0.0  78   60    85  43.5\n",
      "9   5.0  75   70    98  81.8\n",
      "10  5.0   0    0    75  32.9\n",
      "11  0.0   0    0    60   0.0\n",
      "12  5.0   0    0    75  35.0\n",
      "13  5.0  73   70    98  79.5\n",
      "14  5.0  78   94    98  89.7\n",
      "15  5.0  75   95    98  88.6\n",
      "16  0.0   0    0    60   0.0\n",
      "17  5.0  75   65    98  77.3\n",
      "18  5.0  80   94    98  91.2\n",
      "19  5.0  88   94    98  93.6\n",
      "20  5.0  88   96    98  93.0\n",
      "21  5.0  68    0    85  50.3\n",
      "22  5.0  85   95    98  92.2\n",
      "23  5.0  80   96    98  91.7\n",
      "24  0.0  75   82    85  51.6\n",
      "25  5.0  85   65    98  81.9\n",
      "26  5.0  95   97    98  95.5\n"
     ]
    }
   ],
   "source": []
  },
  {
   "cell_type": "code",
   "execution_count": null,
   "id": "32f66721",
   "metadata": {},
   "outputs": [],
   "source": []
  }
 ],
 "metadata": {
  "kernelspec": {
   "display_name": "Python 3 (ipykernel)",
   "language": "python",
   "name": "python3"
  },
  "language_info": {
   "codemirror_mode": {
    "name": "ipython",
    "version": 3
   },
   "file_extension": ".py",
   "mimetype": "text/x-python",
   "name": "python",
   "nbconvert_exporter": "python",
   "pygments_lexer": "ipython3",
   "version": "3.9.12"
  }
 },
 "nbformat": 4,
 "nbformat_minor": 5
}
