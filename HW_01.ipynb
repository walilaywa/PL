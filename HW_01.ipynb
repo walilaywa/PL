{
 "cells": [
  {
   "cell_type": "code",
   "execution_count": 1,
   "id": "949bf9d7",
   "metadata": {},
   "outputs": [],
   "source": [
    "import pandas as pd\n",
    "# read csv file\n",
    "allstudent = pd.read_csv(\"try_score.csv\")"
   ]
  },
  {
   "cell_type": "code",
   "execution_count": 2,
   "id": "d1580759",
   "metadata": {},
   "outputs": [
    {
     "data": {
      "text/html": [
       "<div>\n",
       "<style scoped>\n",
       "    .dataframe tbody tr th:only-of-type {\n",
       "        vertical-align: middle;\n",
       "    }\n",
       "\n",
       "    .dataframe tbody tr th {\n",
       "        vertical-align: top;\n",
       "    }\n",
       "\n",
       "    .dataframe thead th {\n",
       "        text-align: right;\n",
       "    }\n",
       "</style>\n",
       "<table border=\"1\" class=\"dataframe\">\n",
       "  <thead>\n",
       "    <tr style=\"text-align: right;\">\n",
       "      <th></th>\n",
       "      <th>Unnamed: 0</th>\n",
       "      <th>實作</th>\n",
       "      <th>考試</th>\n",
       "      <th>學習單</th>\n",
       "      <th>平時成績</th>\n",
       "      <th>總成績</th>\n",
       "    </tr>\n",
       "  </thead>\n",
       "  <tbody>\n",
       "    <tr>\n",
       "      <th>21</th>\n",
       "      <td>22</td>\n",
       "      <td>94</td>\n",
       "      <td>85</td>\n",
       "      <td>95</td>\n",
       "      <td>98</td>\n",
       "      <td>92.2</td>\n",
       "    </tr>\n",
       "    <tr>\n",
       "      <th>22</th>\n",
       "      <td>23</td>\n",
       "      <td>95</td>\n",
       "      <td>80</td>\n",
       "      <td>96</td>\n",
       "      <td>98</td>\n",
       "      <td>91.7</td>\n",
       "    </tr>\n",
       "    <tr>\n",
       "      <th>23</th>\n",
       "      <td>24</td>\n",
       "      <td>0</td>\n",
       "      <td>75</td>\n",
       "      <td>82</td>\n",
       "      <td>85</td>\n",
       "      <td>51.6</td>\n",
       "    </tr>\n",
       "    <tr>\n",
       "      <th>24</th>\n",
       "      <td>25</td>\n",
       "      <td>99</td>\n",
       "      <td>85</td>\n",
       "      <td>65</td>\n",
       "      <td>98</td>\n",
       "      <td>81.9</td>\n",
       "    </tr>\n",
       "    <tr>\n",
       "      <th>25</th>\n",
       "      <td>26</td>\n",
       "      <td>94</td>\n",
       "      <td>95</td>\n",
       "      <td>97</td>\n",
       "      <td>98</td>\n",
       "      <td>95.5</td>\n",
       "    </tr>\n",
       "  </tbody>\n",
       "</table>\n",
       "</div>"
      ],
      "text/plain": [
       "    Unnamed: 0  實作  考試  學習單  平時成績   總成績\n",
       "21          22  94  85   95    98  92.2\n",
       "22          23  95  80   96    98  91.7\n",
       "23          24   0  75   82    85  51.6\n",
       "24          25  99  85   65    98  81.9\n",
       "25          26  94  95   97    98  95.5"
      ]
     },
     "execution_count": 2,
     "metadata": {},
     "output_type": "execute_result"
    }
   ],
   "source": [
    "allstudent.tail()\n",
    "#尾端學生的詳細資訊"
   ]
  },
  {
   "cell_type": "code",
   "execution_count": 3,
   "id": "5bd3f2e9",
   "metadata": {},
   "outputs": [
    {
     "name": "stdout",
     "output_type": "stream",
     "text": [
      "本班總人數: 25\n"
     ]
    }
   ],
   "source": [
    "handmade = list(allstudent['實作'])\n",
    "print(\"本班總人數:\", len(allstudent)-1)\n",
    "#第一行為標題列，所以要扣掉1"
   ]
  },
  {
   "cell_type": "code",
   "execution_count": 4,
   "id": "f0dbf6de",
   "metadata": {},
   "outputs": [
    {
     "name": "stdout",
     "output_type": "stream",
     "text": [
      "0       0\n",
      "1       0\n",
      "2      85\n",
      "3      93\n",
      "4      94\n",
      "5       0\n",
      "6       0\n",
      "7       0\n",
      "8     100\n",
      "9      94\n",
      "10      0\n",
      "11    100\n",
      "12     95\n",
      "13     93\n",
      "14     91\n",
      "15      0\n",
      "16     93\n",
      "17     96\n",
      "18     97\n",
      "19     93\n",
      "20     95\n",
      "21     94\n",
      "22     95\n",
      "23      0\n",
      "24     99\n",
      "25     94\n",
      "Name: 實作, dtype: int64\n"
     ]
    }
   ],
   "source": [
    "print(allstudent['實作'])"
   ]
  },
  {
   "cell_type": "code",
   "execution_count": 10,
   "id": "3365a318",
   "metadata": {},
   "outputs": [
    {
     "name": "stdout",
     "output_type": "stream",
     "text": [
      "學生座號實作成績\n",
      "0      1\n",
      "1      2\n",
      "2      3\n",
      "3      4\n",
      "4      5\n",
      "5      6\n",
      "6      7\n",
      "7      8\n",
      "8      9\n",
      "9     10\n",
      "10    11\n",
      "11    12\n",
      "12    13\n",
      "13    14\n",
      "14    15\n",
      "15    16\n",
      "16    17\n",
      "17    18\n",
      "18    19\n",
      "19    20\n",
      "20    21\n",
      "21    22\n",
      "22    23\n",
      "23    24\n",
      "24    25\n",
      "25    26\n",
      "Name: Unnamed: 0, dtype: int64 0       0\n",
      "1       0\n",
      "2      85\n",
      "3      93\n",
      "4      94\n",
      "5       0\n",
      "6       0\n",
      "7       0\n",
      "8     100\n",
      "9      94\n",
      "10      0\n",
      "11    100\n",
      "12     95\n",
      "13     93\n",
      "14     91\n",
      "15      0\n",
      "16     93\n",
      "17     96\n",
      "18     97\n",
      "19     93\n",
      "20     95\n",
      "21     94\n",
      "22     95\n",
      "23      0\n",
      "24     99\n",
      "25     94\n",
      "Name: 實作, dtype: int64\n"
     ]
    }
   ],
   "source": []
  },
  {
   "cell_type": "code",
   "execution_count": null,
   "id": "ae94b4c9",
   "metadata": {},
   "outputs": [],
   "source": []
  }
 ],
 "metadata": {
  "kernelspec": {
   "display_name": "Python 3 (ipykernel)",
   "language": "python",
   "name": "python3"
  },
  "language_info": {
   "codemirror_mode": {
    "name": "ipython",
    "version": 3
   },
   "file_extension": ".py",
   "mimetype": "text/x-python",
   "name": "python",
   "nbconvert_exporter": "python",
   "pygments_lexer": "ipython3",
   "version": "3.9.12"
  }
 },
 "nbformat": 4,
 "nbformat_minor": 5
}
