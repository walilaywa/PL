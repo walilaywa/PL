{
 "cells": [
  {
   "cell_type": "code",
   "execution_count": 12,
   "id": "949bf9d7",
   "metadata": {},
   "outputs": [],
   "source": [
    "import pandas as pd\n",
    "# read csv file\n",
    "allstudent = pd.read_csv(\"try_score.csv\",index_col=\"Unnamed: 0\")\n",
    "#index_col是用來設定要將哪一列為索引值(不然會自己出現索引值)"
   ]
  },
  {
   "cell_type": "code",
   "execution_count": 13,
   "id": "d1580759",
   "metadata": {},
   "outputs": [
    {
     "data": {
      "text/html": [
       "<div>\n",
       "<style scoped>\n",
       "    .dataframe tbody tr th:only-of-type {\n",
       "        vertical-align: middle;\n",
       "    }\n",
       "\n",
       "    .dataframe tbody tr th {\n",
       "        vertical-align: top;\n",
       "    }\n",
       "\n",
       "    .dataframe thead th {\n",
       "        text-align: right;\n",
       "    }\n",
       "</style>\n",
       "<table border=\"1\" class=\"dataframe\">\n",
       "  <thead>\n",
       "    <tr style=\"text-align: right;\">\n",
       "      <th></th>\n",
       "      <th>實作</th>\n",
       "      <th>考試</th>\n",
       "      <th>學習單</th>\n",
       "      <th>平時成績</th>\n",
       "      <th>總成績</th>\n",
       "    </tr>\n",
       "  </thead>\n",
       "  <tbody>\n",
       "    <tr>\n",
       "      <th>22</th>\n",
       "      <td>94</td>\n",
       "      <td>85</td>\n",
       "      <td>95</td>\n",
       "      <td>98</td>\n",
       "      <td>92.2</td>\n",
       "    </tr>\n",
       "    <tr>\n",
       "      <th>23</th>\n",
       "      <td>95</td>\n",
       "      <td>80</td>\n",
       "      <td>96</td>\n",
       "      <td>98</td>\n",
       "      <td>91.7</td>\n",
       "    </tr>\n",
       "    <tr>\n",
       "      <th>24</th>\n",
       "      <td>0</td>\n",
       "      <td>75</td>\n",
       "      <td>82</td>\n",
       "      <td>85</td>\n",
       "      <td>51.6</td>\n",
       "    </tr>\n",
       "    <tr>\n",
       "      <th>25</th>\n",
       "      <td>99</td>\n",
       "      <td>85</td>\n",
       "      <td>65</td>\n",
       "      <td>98</td>\n",
       "      <td>81.9</td>\n",
       "    </tr>\n",
       "    <tr>\n",
       "      <th>26</th>\n",
       "      <td>94</td>\n",
       "      <td>95</td>\n",
       "      <td>97</td>\n",
       "      <td>98</td>\n",
       "      <td>95.5</td>\n",
       "    </tr>\n",
       "  </tbody>\n",
       "</table>\n",
       "</div>"
      ],
      "text/plain": [
       "    實作  考試  學習單  平時成績   總成績\n",
       "22  94  85   95    98  92.2\n",
       "23  95  80   96    98  91.7\n",
       "24   0  75   82    85  51.6\n",
       "25  99  85   65    98  81.9\n",
       "26  94  95   97    98  95.5"
      ]
     },
     "execution_count": 13,
     "metadata": {},
     "output_type": "execute_result"
    }
   ],
   "source": [
    "allstudent.tail()\n",
    "#尾端學生的詳細資訊"
   ]
  },
  {
   "cell_type": "code",
   "execution_count": 14,
   "id": "5bd3f2e9",
   "metadata": {},
   "outputs": [
    {
     "name": "stdout",
     "output_type": "stream",
     "text": [
      "本班總人數: 26\n"
     ]
    }
   ],
   "source": [
    "handmade = list(allstudent['實作'])\n",
    "print(\"本班總人數:\", len(allstudent))"
   ]
  },
  {
   "cell_type": "code",
   "execution_count": 15,
   "id": "f0dbf6de",
   "metadata": {},
   "outputs": [
    {
     "name": "stdout",
     "output_type": "stream",
     "text": [
      "     實作  考試  學習單  平時成績   總成績\n",
      "1     0   0    0    60   0.0\n",
      "2     0  65    0    75  16.3\n",
      "3    85   0   75    85  59.8\n",
      "4    93  83   95    98  91.3\n",
      "5    94   0   95    85  70.9\n",
      "6     0   0    0    60   0.0\n",
      "7     0   0    0    60   0.0\n",
      "8     0  78   60    85  43.5\n",
      "9   100  75   70    98  81.8\n",
      "10   94   0    0    75  32.9\n",
      "11    0   0    0    60   0.0\n",
      "12  100   0    0    75  35.0\n",
      "13   95  73   70    98  79.5\n",
      "14   93  78   94    98  89.7\n",
      "15   91  75   95    98  88.6\n",
      "16    0   0    0    60   0.0\n",
      "17   93  75   65    98  77.3\n",
      "18   96  80   94    98  91.2\n",
      "19   97  88   94    98  93.6\n",
      "20   93  88   96    98  93.0\n",
      "21   95  68    0    85  50.3\n",
      "22   94  85   95    98  92.2\n",
      "23   95  80   96    98  91.7\n",
      "24    0  75   82    85  51.6\n",
      "25   99  85   65    98  81.9\n",
      "26   94  95   97    98  95.5\n"
     ]
    }
   ],
   "source": [
    "print(allstudent)"
   ]
  },
  {
   "cell_type": "code",
   "execution_count": 16,
   "id": "3365a318",
   "metadata": {},
   "outputs": [
    {
     "name": "stdout",
     "output_type": "stream",
     "text": [
      "     實作   考試  學習單  平時成績  總成績\n",
      "1   0.0  0.0  0.0   3.0  0.0\n",
      "2   0.0  3.0  0.0   4.0  1.0\n",
      "3   4.0  0.0  4.0   4.0  3.0\n",
      "4   5.0  4.0  5.0   5.0  5.0\n",
      "5   5.0  0.0  5.0   4.0  4.0\n",
      "6   0.0  0.0  0.0   3.0  0.0\n",
      "7   0.0  0.0  0.0   3.0  0.0\n",
      "8   0.0  4.0  3.0   4.0  2.0\n",
      "9   5.0  4.0  4.0   5.0  4.0\n",
      "10  5.0  0.0  0.0   4.0  2.0\n",
      "11  0.0  0.0  0.0   3.0  0.0\n",
      "12  5.0  0.0  0.0   4.0  2.0\n",
      "13  5.0  4.0  4.0   5.0  4.0\n",
      "14  5.0  4.0  5.0   5.0  4.0\n",
      "15  5.0  4.0  5.0   5.0  4.0\n",
      "16  0.0  0.0  0.0   3.0  0.0\n",
      "17  5.0  4.0  3.0   5.0  4.0\n",
      "18  5.0  4.0  5.0   5.0  5.0\n",
      "19  5.0  4.0  5.0   5.0  5.0\n",
      "20  5.0  4.0  5.0   5.0  5.0\n",
      "21  5.0  3.0  0.0   4.0  3.0\n",
      "22  5.0  4.0  5.0   5.0  5.0\n",
      "23  5.0  4.0  5.0   5.0  5.0\n",
      "24  0.0  4.0  4.0   4.0  3.0\n",
      "25  5.0  4.0  3.0   5.0  4.0\n",
      "26  5.0  5.0  5.0   5.0  5.0\n"
     ]
    }
   ],
   "source": [
    "#將分數弄成五等第並四捨五入\n",
    "allstudent[\"實作\"]=round(allstudent[\"實作\"]/20,0)\n",
    "allstudent[\"考試\"]=round(allstudent[\"考試\"]/20,0)\n",
    "allstudent[\"學習單\"]=round(allstudent[\"學習單\"]/20,0)\n",
    "allstudent[\"平時成績\"]=round(allstudent[\"平時成績\"]/20,0)\n",
    "allstudent[\"總成績\"]=round(allstudent[\"總成績\"]/20,0)\n",
    "print(allstudent)"
   ]
  },
  {
   "cell_type": "code",
   "execution_count": 17,
   "id": "ae94b4c9",
   "metadata": {},
   "outputs": [],
   "source": [
    "#print(s1&s2)#交集 s1.intersection(s2)\n",
    "#print(s1|s2)#聯集 s1.union(s2)\n",
    "#print(s1-s2)#差集 s1.difference(s2)\n",
    "#print(s2-s1)#差集 s2.difference(s1)\n",
    "#print(s1^s2)#對稱差集(聯集-交集) s1.symmetric_difference(s2)"
   ]
  },
  {
   "cell_type": "code",
   "execution_count": 19,
   "id": "4091588f",
   "metadata": {},
   "outputs": [
    {
     "name": "stdout",
     "output_type": "stream",
     "text": [
      "    總成績\n",
      "1   0.0\n",
      "2   1.0\n",
      "3   3.0\n",
      "4   5.0\n",
      "5   4.0\n",
      "6   0.0\n",
      "7   0.0\n",
      "8   2.0\n",
      "9   4.0\n",
      "10  2.0\n",
      "11  0.0\n",
      "12  2.0\n",
      "13  4.0\n",
      "14  4.0\n",
      "15  4.0\n",
      "16  0.0\n",
      "17  4.0\n",
      "18  5.0\n",
      "19  5.0\n",
      "20  5.0\n",
      "21  3.0\n",
      "22  5.0\n",
      "23  5.0\n",
      "24  3.0\n",
      "25  4.0\n",
      "26  5.0\n",
      "    總成績\n",
      "4   5.0\n",
      "18  5.0\n",
      "19  5.0\n",
      "20  5.0\n",
      "22  5.0\n",
      "23  5.0\n",
      "26  5.0\n"
     ]
    }
   ],
   "source": [
    "applys1=pd.DataFrame(allstudent[\"總成績\"])\n",
    "print(applys1)\n",
    "#總成績的人單獨列出\n",
    "a1=pd.DataFrame(applys1[applys1[\"總成績\"]>4])\n",
    "print(a1)\n",
    "#將總成績超過4的人列出來"
   ]
  },
  {
   "cell_type": "code",
   "execution_count": 20,
   "id": "28cdf361",
   "metadata": {},
   "outputs": [
    {
     "name": "stdout",
     "output_type": "stream",
     "text": [
      "     實作\n",
      "1   0.0\n",
      "2   0.0\n",
      "3   4.0\n",
      "4   5.0\n",
      "5   5.0\n",
      "6   0.0\n",
      "7   0.0\n",
      "8   0.0\n",
      "9   5.0\n",
      "10  5.0\n",
      "11  0.0\n",
      "12  5.0\n",
      "13  5.0\n",
      "14  5.0\n",
      "15  5.0\n",
      "16  0.0\n",
      "17  5.0\n",
      "18  5.0\n",
      "19  5.0\n",
      "20  5.0\n",
      "21  5.0\n",
      "22  5.0\n",
      "23  5.0\n",
      "24  0.0\n",
      "25  5.0\n",
      "26  5.0\n",
      "     實作\n",
      "4   5.0\n",
      "5   5.0\n",
      "9   5.0\n",
      "10  5.0\n",
      "12  5.0\n",
      "13  5.0\n",
      "14  5.0\n",
      "15  5.0\n",
      "17  5.0\n",
      "18  5.0\n",
      "19  5.0\n",
      "20  5.0\n",
      "21  5.0\n",
      "22  5.0\n",
      "23  5.0\n",
      "25  5.0\n",
      "26  5.0\n"
     ]
    }
   ],
   "source": [
    "applys2=pd.DataFrame(allstudent[\"實作\"])\n",
    "print(applys2)\n",
    "#實作的人單獨列出\n",
    "a2=pd.DataFrame(applys2[applys2[\"實作\"]>4])\n",
    "print(a2)\n",
    "#將實作超過4的人列出來"
   ]
  },
  {
   "cell_type": "code",
   "execution_count": 23,
   "id": "55be9155",
   "metadata": {},
   "outputs": [
    {
     "name": "stdout",
     "output_type": "stream",
     "text": [
      "{4, 18, 19, 20, 22, 23, 26}\n",
      "{4, 5, 9, 10, 12, 13, 14, 15, 17, 18, 19, 20, 21, 22, 23, 25, 26}\n"
     ]
    }
   ],
   "source": [
    "id1=set(a1.index)\n",
    "print(id1)\n",
    "id2=set(a2.index)\n",
    "print(id2)\n",
    "#抓取兩筆表單的索引直，並各列成一個表單做比較"
   ]
  },
  {
   "cell_type": "code",
   "execution_count": 25,
   "id": "2cb586b8",
   "metadata": {},
   "outputs": [
    {
     "name": "stdout",
     "output_type": "stream",
     "text": [
      "{4, 18, 19, 20, 22, 23, 26}\n"
     ]
    }
   ],
   "source": [
    "#實作跟總成績都有到達5分(結果為座號)\n",
    "print(id1&id2)"
   ]
  },
  {
   "cell_type": "code",
   "execution_count": 27,
   "id": "89692803",
   "metadata": {},
   "outputs": [
    {
     "name": "stdout",
     "output_type": "stream",
     "text": [
      "{4, 5, 9, 10, 12, 13, 14, 15, 17, 18, 19, 20, 21, 22, 23, 25, 26}\n"
     ]
    }
   ],
   "source": [
    "#實作跟總成績至少有一個5分(結果為座號)\n",
    "print(id1|id2)"
   ]
  },
  {
   "cell_type": "code",
   "execution_count": 28,
   "id": "5f810b7d",
   "metadata": {},
   "outputs": [
    {
     "name": "stdout",
     "output_type": "stream",
     "text": [
      "set()\n"
     ]
    }
   ],
   "source": [
    "#只有實作單拿5分(結果為座號)\n",
    "print(id1-id2)"
   ]
  },
  {
   "cell_type": "code",
   "execution_count": 31,
   "id": "e6b4a942",
   "metadata": {},
   "outputs": [
    {
     "name": "stdout",
     "output_type": "stream",
     "text": [
      "{5, 9, 10, 12, 13, 14, 15, 17, 21, 25}\n"
     ]
    }
   ],
   "source": [
    "#只有總成績單拿5分(結果為座號)\n",
    "print(id2-id1)"
   ]
  },
  {
   "cell_type": "code",
   "execution_count": 32,
   "id": "32f66721",
   "metadata": {},
   "outputs": [
    {
     "name": "stdout",
     "output_type": "stream",
     "text": [
      "{5, 9, 10, 12, 13, 14, 15, 17, 21, 25}\n"
     ]
    }
   ],
   "source": [
    "#只有一項成績有到達5分的人的總表\n",
    "print(id1^id2)"
   ]
  },
  {
   "cell_type": "code",
   "execution_count": null,
   "id": "f235a7a4",
   "metadata": {},
   "outputs": [],
   "source": [
    "#根據資料可知，總成績達5分的人基本上實作皆是拿5分；所以這個老師應該蠻重視實作的\n",
    "#我知道數據分析有其他的函數式，但我花很多時間查找也測試了很多，才好不容易做出這樣出來~花了很多時間將資料作轉置跟理解~"
   ]
  }
 ],
 "metadata": {
  "kernelspec": {
   "display_name": "Python 3 (ipykernel)",
   "language": "python",
   "name": "python3"
  },
  "language_info": {
   "codemirror_mode": {
    "name": "ipython",
    "version": 3
   },
   "file_extension": ".py",
   "mimetype": "text/x-python",
   "name": "python",
   "nbconvert_exporter": "python",
   "pygments_lexer": "ipython3",
   "version": "3.9.12"
  }
 },
 "nbformat": 4,
 "nbformat_minor": 5
}
