{
 "cells": [
  {
   "cell_type": "code",
   "execution_count": 12,
   "id": "949bf9d7",
   "metadata": {},
   "outputs": [
    {
     "ename": "AttributeError",
     "evalue": "'DataFrame' object has no attribute 'tolist'",
     "output_type": "error",
     "traceback": [
      "\u001b[1;31m---------------------------------------------------------------------------\u001b[0m",
      "\u001b[1;31mAttributeError\u001b[0m                            Traceback (most recent call last)",
      "Input \u001b[1;32mIn [12]\u001b[0m, in \u001b[0;36m<cell line: 4>\u001b[1;34m()\u001b[0m\n\u001b[0;32m      2\u001b[0m \u001b[38;5;66;03m# read csv file\u001b[39;00m\n\u001b[0;32m      3\u001b[0m allstudent \u001b[38;5;241m=\u001b[39m pd\u001b[38;5;241m.\u001b[39mread_csv(\u001b[38;5;124m\"\u001b[39m\u001b[38;5;124mtry_score.csv\u001b[39m\u001b[38;5;124m\"\u001b[39m,index_col\u001b[38;5;241m=\u001b[39m\u001b[38;5;124m\"\u001b[39m\u001b[38;5;124mUnnamed: 0\u001b[39m\u001b[38;5;124m\"\u001b[39m)\n\u001b[1;32m----> 4\u001b[0m final_list\u001b[38;5;241m=\u001b[39m\u001b[43mallstudent\u001b[49m\u001b[38;5;241;43m.\u001b[39;49m\u001b[43mtolist\u001b[49m()\n",
      "File \u001b[1;32mD:\\useful program\\anaconda\\lib\\site-packages\\pandas\\core\\generic.py:5575\u001b[0m, in \u001b[0;36mNDFrame.__getattr__\u001b[1;34m(self, name)\u001b[0m\n\u001b[0;32m   5568\u001b[0m \u001b[38;5;28;01mif\u001b[39;00m (\n\u001b[0;32m   5569\u001b[0m     name \u001b[38;5;129;01mnot\u001b[39;00m \u001b[38;5;129;01min\u001b[39;00m \u001b[38;5;28mself\u001b[39m\u001b[38;5;241m.\u001b[39m_internal_names_set\n\u001b[0;32m   5570\u001b[0m     \u001b[38;5;129;01mand\u001b[39;00m name \u001b[38;5;129;01mnot\u001b[39;00m \u001b[38;5;129;01min\u001b[39;00m \u001b[38;5;28mself\u001b[39m\u001b[38;5;241m.\u001b[39m_metadata\n\u001b[0;32m   5571\u001b[0m     \u001b[38;5;129;01mand\u001b[39;00m name \u001b[38;5;129;01mnot\u001b[39;00m \u001b[38;5;129;01min\u001b[39;00m \u001b[38;5;28mself\u001b[39m\u001b[38;5;241m.\u001b[39m_accessors\n\u001b[0;32m   5572\u001b[0m     \u001b[38;5;129;01mand\u001b[39;00m \u001b[38;5;28mself\u001b[39m\u001b[38;5;241m.\u001b[39m_info_axis\u001b[38;5;241m.\u001b[39m_can_hold_identifiers_and_holds_name(name)\n\u001b[0;32m   5573\u001b[0m ):\n\u001b[0;32m   5574\u001b[0m     \u001b[38;5;28;01mreturn\u001b[39;00m \u001b[38;5;28mself\u001b[39m[name]\n\u001b[1;32m-> 5575\u001b[0m \u001b[38;5;28;01mreturn\u001b[39;00m \u001b[38;5;28;43mobject\u001b[39;49m\u001b[38;5;241;43m.\u001b[39;49m\u001b[38;5;21;43m__getattribute__\u001b[39;49m\u001b[43m(\u001b[49m\u001b[38;5;28;43mself\u001b[39;49m\u001b[43m,\u001b[49m\u001b[43m \u001b[49m\u001b[43mname\u001b[49m\u001b[43m)\u001b[49m\n",
      "\u001b[1;31mAttributeError\u001b[0m: 'DataFrame' object has no attribute 'tolist'"
     ]
    }
   ],
   "source": [
    "import pandas as pd\n",
    "# read csv file\n",
    "allstudent = pd.read_csv(\"try_score.csv\",index_col=\"Unnamed: 0\")\n",
    "final_list=allstudent.tolist()\n",
    "#index_col是用來設定要將哪一列為索引值(不然會自己出現索引值)"
   ]
  },
  {
   "cell_type": "code",
   "execution_count": 2,
   "id": "d1580759",
   "metadata": {},
   "outputs": [
    {
     "data": {
      "text/html": [
       "<div>\n",
       "<style scoped>\n",
       "    .dataframe tbody tr th:only-of-type {\n",
       "        vertical-align: middle;\n",
       "    }\n",
       "\n",
       "    .dataframe tbody tr th {\n",
       "        vertical-align: top;\n",
       "    }\n",
       "\n",
       "    .dataframe thead th {\n",
       "        text-align: right;\n",
       "    }\n",
       "</style>\n",
       "<table border=\"1\" class=\"dataframe\">\n",
       "  <thead>\n",
       "    <tr style=\"text-align: right;\">\n",
       "      <th></th>\n",
       "      <th>實作</th>\n",
       "      <th>考試</th>\n",
       "      <th>學習單</th>\n",
       "      <th>平時成績</th>\n",
       "      <th>總成績</th>\n",
       "    </tr>\n",
       "  </thead>\n",
       "  <tbody>\n",
       "    <tr>\n",
       "      <th>22</th>\n",
       "      <td>94</td>\n",
       "      <td>85</td>\n",
       "      <td>95</td>\n",
       "      <td>98</td>\n",
       "      <td>92.2</td>\n",
       "    </tr>\n",
       "    <tr>\n",
       "      <th>23</th>\n",
       "      <td>95</td>\n",
       "      <td>80</td>\n",
       "      <td>96</td>\n",
       "      <td>98</td>\n",
       "      <td>91.7</td>\n",
       "    </tr>\n",
       "    <tr>\n",
       "      <th>24</th>\n",
       "      <td>0</td>\n",
       "      <td>75</td>\n",
       "      <td>82</td>\n",
       "      <td>85</td>\n",
       "      <td>51.6</td>\n",
       "    </tr>\n",
       "    <tr>\n",
       "      <th>25</th>\n",
       "      <td>99</td>\n",
       "      <td>85</td>\n",
       "      <td>65</td>\n",
       "      <td>98</td>\n",
       "      <td>81.9</td>\n",
       "    </tr>\n",
       "    <tr>\n",
       "      <th>26</th>\n",
       "      <td>94</td>\n",
       "      <td>95</td>\n",
       "      <td>97</td>\n",
       "      <td>98</td>\n",
       "      <td>95.5</td>\n",
       "    </tr>\n",
       "  </tbody>\n",
       "</table>\n",
       "</div>"
      ],
      "text/plain": [
       "    實作  考試  學習單  平時成績   總成績\n",
       "22  94  85   95    98  92.2\n",
       "23  95  80   96    98  91.7\n",
       "24   0  75   82    85  51.6\n",
       "25  99  85   65    98  81.9\n",
       "26  94  95   97    98  95.5"
      ]
     },
     "execution_count": 2,
     "metadata": {},
     "output_type": "execute_result"
    }
   ],
   "source": [
    "allstudent.tail()\n",
    "#尾端學生的詳細資訊"
   ]
  },
  {
   "cell_type": "code",
   "execution_count": 3,
   "id": "5bd3f2e9",
   "metadata": {},
   "outputs": [
    {
     "name": "stdout",
     "output_type": "stream",
     "text": [
      "本班總人數: 26\n"
     ]
    }
   ],
   "source": [
    "handmade = list(allstudent['實作'])\n",
    "print(\"本班總人數:\", len(allstudent))"
   ]
  },
  {
   "cell_type": "code",
   "execution_count": 4,
   "id": "f0dbf6de",
   "metadata": {},
   "outputs": [
    {
     "name": "stdout",
     "output_type": "stream",
     "text": [
      "     實作  考試  學習單  平時成績   總成績\n",
      "1     0   0    0    60   0.0\n",
      "2     0  65    0    75  16.3\n",
      "3    85   0   75    85  59.8\n",
      "4    93  83   95    98  91.3\n",
      "5    94   0   95    85  70.9\n",
      "6     0   0    0    60   0.0\n",
      "7     0   0    0    60   0.0\n",
      "8     0  78   60    85  43.5\n",
      "9   100  75   70    98  81.8\n",
      "10   94   0    0    75  32.9\n",
      "11    0   0    0    60   0.0\n",
      "12  100   0    0    75  35.0\n",
      "13   95  73   70    98  79.5\n",
      "14   93  78   94    98  89.7\n",
      "15   91  75   95    98  88.6\n",
      "16    0   0    0    60   0.0\n",
      "17   93  75   65    98  77.3\n",
      "18   96  80   94    98  91.2\n",
      "19   97  88   94    98  93.6\n",
      "20   93  88   96    98  93.0\n",
      "21   95  68    0    85  50.3\n",
      "22   94  85   95    98  92.2\n",
      "23   95  80   96    98  91.7\n",
      "24    0  75   82    85  51.6\n",
      "25   99  85   65    98  81.9\n",
      "26   94  95   97    98  95.5\n"
     ]
    }
   ],
   "source": [
    "print(allstudent)"
   ]
  },
  {
   "cell_type": "code",
   "execution_count": 1,
   "id": "3365a318",
   "metadata": {},
   "outputs": [
    {
     "ename": "NameError",
     "evalue": "name 'allstudent' is not defined",
     "output_type": "error",
     "traceback": [
      "\u001b[1;31m---------------------------------------------------------------------------\u001b[0m",
      "\u001b[1;31mNameError\u001b[0m                                 Traceback (most recent call last)",
      "Input \u001b[1;32mIn [1]\u001b[0m, in \u001b[0;36m<cell line: 2>\u001b[1;34m()\u001b[0m\n\u001b[0;32m      1\u001b[0m \u001b[38;5;66;03m#將分數弄成五等第並四捨五入\u001b[39;00m\n\u001b[1;32m----> 2\u001b[0m allstudent[\u001b[38;5;124m\"\u001b[39m\u001b[38;5;124m實作\u001b[39m\u001b[38;5;124m\"\u001b[39m]\u001b[38;5;241m=\u001b[39m\u001b[38;5;28mround\u001b[39m(\u001b[43mallstudent\u001b[49m[\u001b[38;5;124m\"\u001b[39m\u001b[38;5;124m實作\u001b[39m\u001b[38;5;124m\"\u001b[39m]\u001b[38;5;241m/\u001b[39m\u001b[38;5;241m20\u001b[39m,\u001b[38;5;241m0\u001b[39m)\n\u001b[0;32m      3\u001b[0m allstudent[\u001b[38;5;124m\"\u001b[39m\u001b[38;5;124m考試\u001b[39m\u001b[38;5;124m\"\u001b[39m]\u001b[38;5;241m=\u001b[39m\u001b[38;5;28mround\u001b[39m(allstudent[\u001b[38;5;124m\"\u001b[39m\u001b[38;5;124m考試\u001b[39m\u001b[38;5;124m\"\u001b[39m]\u001b[38;5;241m/\u001b[39m\u001b[38;5;241m20\u001b[39m,\u001b[38;5;241m0\u001b[39m)\n\u001b[0;32m      4\u001b[0m allstudent[\u001b[38;5;124m\"\u001b[39m\u001b[38;5;124m學習單\u001b[39m\u001b[38;5;124m\"\u001b[39m]\u001b[38;5;241m=\u001b[39m\u001b[38;5;28mround\u001b[39m(allstudent[\u001b[38;5;124m\"\u001b[39m\u001b[38;5;124m學習單\u001b[39m\u001b[38;5;124m\"\u001b[39m]\u001b[38;5;241m/\u001b[39m\u001b[38;5;241m20\u001b[39m,\u001b[38;5;241m0\u001b[39m)\n",
      "\u001b[1;31mNameError\u001b[0m: name 'allstudent' is not defined"
     ]
    }
   ],
   "source": [
    "#將分數弄成五等第並四捨五入\n",
    "allstudent[\"實作\"]=round(allstudent[\"實作\"]/20,0)\n",
    "allstudent[\"考試\"]=round(allstudent[\"考試\"]/20,0)\n",
    "allstudent[\"學習單\"]=round(allstudent[\"學習單\"]/20,0)\n",
    "allstudent[\"平時成績\"]=round(allstudent[\"平時成績\"]/20,0)\n",
    "allstudent[\"總成績\"]=round(allstudent[\"總成績\"]/20,0)\n",
    "print(allstudent)"
   ]
  },
  {
   "cell_type": "code",
   "execution_count": 2,
   "id": "ae94b4c9",
   "metadata": {},
   "outputs": [],
   "source": [
    "#print(s1&s2)#交集 s1.intersection(s2)\n",
    "#print(s1|s2)#聯集 s1.union(s2)\n",
    "#print(s1-s2)#差集 s1.difference(s2)\n",
    "#print(s2-s1)#差集 s2.difference(s1)\n",
    "#print(s1^s2)#對稱差集(聯集-交集) s1.symmetric_difference(s2)"
   ]
  },
  {
   "cell_type": "code",
   "execution_count": 7,
   "id": "32f66721",
   "metadata": {},
   "outputs": [
    {
     "ename": "NameError",
     "evalue": "name 'allstudent' is not defined",
     "output_type": "error",
     "traceback": [
      "\u001b[1;31m---------------------------------------------------------------------------\u001b[0m",
      "\u001b[1;31mNameError\u001b[0m                                 Traceback (most recent call last)",
      "Input \u001b[1;32mIn [7]\u001b[0m, in \u001b[0;36m<cell line: 2>\u001b[1;34m()\u001b[0m\n\u001b[0;32m      1\u001b[0m \u001b[38;5;66;03m#總成績與實作成績皆達高標的同學\u001b[39;00m\n\u001b[1;32m----> 2\u001b[0m applys\u001b[38;5;241m=\u001b[39m\u001b[38;5;28mlist\u001b[39m((\u001b[43mallstudent\u001b[49m[\u001b[38;5;124m\"\u001b[39m\u001b[38;5;124m實作\u001b[39m\u001b[38;5;124m\"\u001b[39m]\u001b[38;5;241m==\u001b[39m\u001b[38;5;241m5\u001b[39m)\u001b[38;5;241m&\u001b[39m(allstudent[\u001b[38;5;124m\"\u001b[39m\u001b[38;5;124m總成績\u001b[39m\u001b[38;5;124m\"\u001b[39m]\u001b[38;5;241m==\u001b[39m\u001b[38;5;241m5\u001b[39m))\n\u001b[0;32m      3\u001b[0m \u001b[38;5;28mprint\u001b[39m(applys)\n",
      "\u001b[1;31mNameError\u001b[0m: name 'allstudent' is not defined"
     ]
    }
   ],
   "source": [
    "#總成績與實作成績皆達高標的同學\n",
    "applys=list((allstudent[\"實作\"]==5)&(allstudent[\"總成績\"]==5))\n",
    "print(applys)"
   ]
  },
  {
   "cell_type": "code",
   "execution_count": 11,
   "id": "4091588f",
   "metadata": {},
   "outputs": [
    {
     "ename": "NameError",
     "evalue": "name 'allstudent' is not defined",
     "output_type": "error",
     "traceback": [
      "\u001b[1;31m---------------------------------------------------------------------------\u001b[0m",
      "\u001b[1;31mNameError\u001b[0m                                 Traceback (most recent call last)",
      "Input \u001b[1;32mIn [11]\u001b[0m, in \u001b[0;36m<cell line: 1>\u001b[1;34m()\u001b[0m\n\u001b[1;32m----> 1\u001b[0m \u001b[38;5;28mprint\u001b[39m(\u001b[38;5;28mlist\u001b[39m(\u001b[43mallstudent\u001b[49m[\u001b[38;5;124m\"\u001b[39m\u001b[38;5;124m實作\u001b[39m\u001b[38;5;124m\"\u001b[39m]\u001b[38;5;241m==\u001b[39m\u001b[38;5;241m5\u001b[39m))\n",
      "\u001b[1;31mNameError\u001b[0m: name 'allstudent' is not defined"
     ]
    }
   ],
   "source": [
    "print(list(allstudent[\"實作\"]==5))"
   ]
  },
  {
   "cell_type": "code",
   "execution_count": null,
   "id": "55be9155",
   "metadata": {},
   "outputs": [],
   "source": []
  }
 ],
 "metadata": {
  "kernelspec": {
   "display_name": "Python 3 (ipykernel)",
   "language": "python",
   "name": "python3"
  },
  "language_info": {
   "codemirror_mode": {
    "name": "ipython",
    "version": 3
   },
   "file_extension": ".py",
   "mimetype": "text/x-python",
   "name": "python",
   "nbconvert_exporter": "python",
   "pygments_lexer": "ipython3",
   "version": "3.9.12"
  }
 },
 "nbformat": 4,
 "nbformat_minor": 5
}
