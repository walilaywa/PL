{
 "cells": [
  {
   "cell_type": "code",
   "execution_count": 18,
   "id": "379472fd",
   "metadata": {},
   "outputs": [
    {
     "ename": "IndentationError",
     "evalue": "expected an indented block (2988420067.py, line 8)",
     "output_type": "error",
     "traceback": [
      "\u001b[1;36m  Input \u001b[1;32mIn [18]\u001b[1;36m\u001b[0m\n\u001b[1;33m    event=input(\"我是AI小小隆，請輸入你要出的?(剪刀/石頭/布)\")\u001b[0m\n\u001b[1;37m    ^\u001b[0m\n\u001b[1;31mIndentationError\u001b[0m\u001b[1;31m:\u001b[0m expected an indented block\n"
     ]
    }
   ],
   "source": [
    "#剪刀石頭布電腦隨機版(尚未成功)\n",
    "\n",
    "your_money=input('請輸入你要投注的總金額：')\n",
    "co_money=input('請輸入你每注多少錢：')\n",
    "\n",
    "while int(your_money) > 0 :\n",
    "\n",
    "event=input(\"我是AI小小隆，請輸入你要出的?(剪刀/石頭/布)\")\n",
    "rand2=random.randrange(2)\n",
    "    #隨機取數0~? \n",
    " if rand2>0\n",
    "      if event ==\"剪刀\":\n",
    "        print(\"我出石頭我贏了！，剩下\")\n",
    "        your_money=int(your_money)-int(co_money)\n",
    "        print(int(your_money))\n",
    "      elif event ==\"石頭\":\n",
    "        print(\"我出布我贏了！，剩下\")\n",
    "        your_money=int(your_money)-int(co_money)\n",
    "        print(int(your_money))\n",
    "      elif event==\"布\":\n",
    "        print(\"我出剪刀頭我贏了！，剩下\")\n",
    "        your_money=int(your_money)-int(co_money)\n",
    "        print(int(your_money))\n",
    "      else:\n",
    "        print(\"出錯了！，倒扣3倍！\")\n",
    "        your_money=int(your_money)-int(co_money)*3\n",
    "        print(int(your_money)\n",
    " elif:\n",
    "       if event ==\"剪刀\":\n",
    "         print(\"我出布...\")\n",
    "         your_money=int(your_money)-int(co_money)\n",
    "         print(int(your_money))\n",
    "       elif event ==\"石頭\":\n",
    "         print(\"我出剪刀...\")\n",
    "         your_money=int(your_money)-int(co_money)\n",
    "         print(int(your_money))\n",
    "       elif event==\"布\":\n",
    "         print(\"我出石頭...\")\n",
    "         your_money=int(your_money)-int(co_money)\n",
    "         print(int(your_money))\n",
    "       else:\n",
    "         print(\"電腦當機中...\")\n",
    "         your_money=int(your_money)+int(co_money)*2\n",
    "         print(int(your_money)\n",
    "\n",
    "print(\"你輸了！\")"
   ]
  },
  {
   "cell_type": "code",
   "execution_count": null,
   "id": "0d043c18",
   "metadata": {},
   "outputs": [],
   "source": []
  }
 ],
 "metadata": {
  "kernelspec": {
   "display_name": "Python 3 (ipykernel)",
   "language": "python",
   "name": "python3"
  },
  "language_info": {
   "codemirror_mode": {
    "name": "ipython",
    "version": 3
   },
   "file_extension": ".py",
   "mimetype": "text/x-python",
   "name": "python",
   "nbconvert_exporter": "python",
   "pygments_lexer": "ipython3",
   "version": "3.9.12"
  }
 },
 "nbformat": 4,
 "nbformat_minor": 5
}
