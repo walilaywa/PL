{
 "cells": [
  {
   "cell_type": "code",
   "execution_count": 1,
   "id": "cc40e3fd",
   "metadata": {},
   "outputs": [
    {
     "data": {
      "text/plain": [
       "dict"
      ]
     },
     "execution_count": 1,
     "metadata": {},
     "output_type": "execute_result"
    }
   ],
   "source": [
    "import json\n",
    "test = open('2nd_hw.json',encoding=\"utf8\")\n",
    "Data = json.load(test)\n",
    "type(Data)"
   ]
  },
  {
   "cell_type": "code",
   "execution_count": 18,
   "id": "3b31b708",
   "metadata": {},
   "outputs": [
    {
     "data": {
      "text/plain": [
       "dict_items([('elevator', [{'num': 'first', 'times': 60, 'user_floor': ['2nd', '4th', '6th', '8th']}, {'num': '2nd', 'times': 50, 'user_floor': ['3rd', '4th', '5th', '6th', '8th', '9th', '13th']}, {'num': '3rd', 'times': 40, 'user_floor': ['11th', '12th', '13th', '15th', '18th']}, {'num': '4th', 'times': 80, 'user_floor': ['3rd', '11th', '12th', '14th', '15th', '17th']}])])"
      ]
     },
     "execution_count": 18,
     "metadata": {},
     "output_type": "execute_result"
    }
   ],
   "source": [
    "#這是一個電梯的統計資料，num表示電梯的編號，times表示電梯的使用次數，user_floor表示有用到的樓層使用者\n",
    "Data.items()"
   ]
  },
  {
   "cell_type": "code",
   "execution_count": 3,
   "id": "9056b3f2",
   "metadata": {},
   "outputs": [],
   "source": [
    "temp =Data.get(\"elevator\")"
   ]
  },
  {
   "cell_type": "code",
   "execution_count": 4,
   "id": "59fb381a",
   "metadata": {},
   "outputs": [
    {
     "data": {
      "text/plain": [
       "[{'num': 'first', 'times': 60, 'user_floor': ['2nd', '4th', '6th', '8th']},\n",
       " {'num': '2nd',\n",
       "  'times': 50,\n",
       "  'user_floor': ['3rd', '4th', '5th', '6th', '8th', '9th', '13th']},\n",
       " {'num': '3rd',\n",
       "  'times': 40,\n",
       "  'user_floor': ['11th', '12th', '13th', '15th', '18th']},\n",
       " {'num': '4th',\n",
       "  'times': 80,\n",
       "  'user_floor': ['3rd', '11th', '12th', '14th', '15th', '17th']}]"
      ]
     },
     "execution_count": 4,
     "metadata": {},
     "output_type": "execute_result"
    }
   ],
   "source": [
    "temp"
   ]
  },
  {
   "cell_type": "code",
   "execution_count": 5,
   "id": "ee761b8c",
   "metadata": {},
   "outputs": [],
   "source": [
    "#查詢各電梯的使用次數與使用者(1)\n",
    "ask=\"first\""
   ]
  },
  {
   "cell_type": "code",
   "execution_count": 6,
   "id": "98f0373c",
   "metadata": {},
   "outputs": [
    {
     "name": "stdout",
     "output_type": "stream",
     "text": [
      "first 電梯的使用次數為 60 次\n",
      "first 電梯的使用者為 ['2nd', '4th', '6th', '8th']\n"
     ]
    }
   ],
   "source": [
    "for i in temp:\n",
    "  if ask == i.get(\"num\"):\n",
    "     print(ask,\"電梯的使用次數為\",i.get(\"times\"),\"次\")\n",
    "     print(ask,\"電梯的使用者為\",i.get(\"user_floor\"))"
   ]
  },
  {
   "cell_type": "code",
   "execution_count": 7,
   "id": "b2b884ad",
   "metadata": {},
   "outputs": [
    {
     "name": "stdout",
     "output_type": "stream",
     "text": [
      "3rd 電梯的使用次數為 40 次\n",
      "3rd 電梯的使用者為 ['11th', '12th', '13th', '15th', '18th']\n"
     ]
    }
   ],
   "source": [
    "#查詢各電梯的使用次數與使用者(3)\n",
    "ask=\"3rd\"\n",
    "for j in temp:\n",
    "  if ask == j.get(\"num\"):\n",
    "     print(ask,\"電梯的使用次數為\",j.get(\"times\"),\"次\")\n",
    "     print(ask,\"電梯的使用者為\",j.get(\"user_floor\"))"
   ]
  },
  {
   "cell_type": "code",
   "execution_count": 8,
   "id": "2c4cacf2",
   "metadata": {},
   "outputs": [
    {
     "name": "stdout",
     "output_type": "stream",
     "text": [
      "4th 電梯的使用次數為 80 次\n",
      "4th 電梯的使用者為 ['3rd', '11th', '12th', '14th', '15th', '17th']\n"
     ]
    }
   ],
   "source": [
    "#查詢各電梯的使用次數與使用者(4)\n",
    "ask=\"4th\"\n",
    "for j in temp:\n",
    "  if ask == j.get(\"num\"):\n",
    "     print(ask,\"電梯的使用次數為\",j.get(\"times\"),\"次\")\n",
    "     print(ask,\"電梯的使用者為\",j.get(\"user_floor\"))"
   ]
  },
  {
   "cell_type": "code",
   "execution_count": 9,
   "id": "4dbd541a",
   "metadata": {},
   "outputs": [
    {
     "data": {
      "text/plain": [
       "[60, 50, 40, 80]"
      ]
     },
     "execution_count": 9,
     "metadata": {},
     "output_type": "execute_result"
    }
   ],
   "source": [
    "#排序使用次數\n",
    "#將所有的次數抓進一個數列為alltimes裡面\n",
    "alltimes=[]\n",
    "for i in temp:\n",
    "    alltimes.append(i.get(\"times\"))\n",
    "alltimes"
   ]
  },
  {
   "cell_type": "code",
   "execution_count": 10,
   "id": "706f1d88",
   "metadata": {},
   "outputs": [],
   "source": [
    "#max(num, key=lambda x:x[0])语法介绍如下：\n",
    "#key=lambda 元素: 元素[字段索引]\n",
    "#sorted(集合) 會將物件從小排到大，另外也可以排序英文字母\n",
    "#如果想要進行反向排序：sorted(集合,reverse=True)"
   ]
  },
  {
   "cell_type": "code",
   "execution_count": 11,
   "id": "9ae5b6af",
   "metadata": {},
   "outputs": [],
   "source": [
    "#enumerate(集合.[start=0])表示給取一個索引值\n",
    "#start的設定值表示起始位置的值"
   ]
  },
  {
   "cell_type": "code",
   "execution_count": 12,
   "id": "082f289a",
   "metadata": {},
   "outputs": [
    {
     "data": {
      "text/plain": [
       "<enumerate at 0x188623e5bc0>"
      ]
     },
     "execution_count": 12,
     "metadata": {},
     "output_type": "execute_result"
    }
   ],
   "source": [
    "alltimes_enumer=enumerate(alltimes,start=1)\n",
    "alltimes_enumer#請教老師為甚麼這一行不能跳出來呢"
   ]
  },
  {
   "cell_type": "code",
   "execution_count": 13,
   "id": "6d634af0",
   "metadata": {},
   "outputs": [],
   "source": [
    "alltimes_enumer_sorted = sorted(alltimes_enumer, key = lambda s: s[1], reverse = True)"
   ]
  },
  {
   "cell_type": "code",
   "execution_count": 14,
   "id": "3f090c01",
   "metadata": {},
   "outputs": [
    {
     "data": {
      "text/plain": [
       "[(4, 80), (1, 60), (2, 50), (3, 40)]"
      ]
     },
     "execution_count": 14,
     "metadata": {},
     "output_type": "execute_result"
    }
   ],
   "source": [
    "#次數相對的序號喔\n",
    "alltimes_enumer_sorted"
   ]
  },
  {
   "cell_type": "code",
   "execution_count": 15,
   "id": "8297fd62",
   "metadata": {},
   "outputs": [
    {
     "data": {
      "text/plain": [
       "4"
      ]
     },
     "execution_count": 15,
     "metadata": {},
     "output_type": "execute_result"
    }
   ],
   "source": [
    "#以矩陣來說就是第(X+1)行第(Y+1)列，所以放入[0][0]就是4\n",
    "alltimes_enumer_sorted[0][0]"
   ]
  },
  {
   "cell_type": "code",
   "execution_count": 16,
   "id": "6f3e199b",
   "metadata": {},
   "outputs": [
    {
     "data": {
      "text/plain": [
       "50"
      ]
     },
     "execution_count": 16,
     "metadata": {},
     "output_type": "execute_result"
    }
   ],
   "source": [
    "#以矩陣來說就是第(X+1)行第(Y+1)列，所以放入[2][1]就是50\n",
    "alltimes_enumer_sorted[2][1]"
   ]
  },
  {
   "cell_type": "code",
   "execution_count": 17,
   "id": "e0edb95e",
   "metadata": {},
   "outputs": [
    {
     "name": "stdout",
     "output_type": "stream",
     "text": [
      "4th 電梯次數是 80 次\n",
      "first 電梯次數是 60 次\n",
      "2nd 電梯次數是 50 次\n",
      "3rd 電梯次數是 40 次\n"
     ]
    }
   ],
   "source": [
    "for i in alltimes_enumer_sorted:#i去讀取排序過後的序列值\n",
    "    j = i[0] - 1 #因為J值是從第零項開始，剛剛設定的i值是從第一項開始，所以要減去1\n",
    "    print(temp[j].get(\"num\"),\"電梯次數是\",temp[j].get(\"times\"),\"次\")"
   ]
  },
  {
   "cell_type": "code",
   "execution_count": null,
   "id": "c058ae29",
   "metadata": {},
   "outputs": [],
   "source": [
    "#最近在寫論文，可惜沒有時間好好研究；先求有再求好\n",
    "#原先設計是第一層是兩個時間點，第二層是四個電梯，第三層是每層樓的使用次數；但感覺太複雜先收手了"
   ]
  }
 ],
 "metadata": {
  "kernelspec": {
   "display_name": "Python 3 (ipykernel)",
   "language": "python",
   "name": "python3"
  },
  "language_info": {
   "codemirror_mode": {
    "name": "ipython",
    "version": 3
   },
   "file_extension": ".py",
   "mimetype": "text/x-python",
   "name": "python",
   "nbconvert_exporter": "python",
   "pygments_lexer": "ipython3",
   "version": "3.9.12"
  }
 },
 "nbformat": 4,
 "nbformat_minor": 5
}
