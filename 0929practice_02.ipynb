{
 "cells": [
  {
   "cell_type": "code",
   "execution_count": 3,
   "id": "a4c268fc",
   "metadata": {},
   "outputs": [
    {
     "name": "stdout",
     "output_type": "stream",
     "text": [
      "['阿程', '阿力', '阿瑤']\n"
     ]
    }
   ],
   "source": [
    "dic={\"阿程\":[\"34\",\"1600\",\"1500\",\"2500\",\"10500\"],\n",
    "     \"阿力\":[\"29\",\"5000\",],\n",
    "     \"阿瑤\":[\"58\",\"2000\",\"1000\"]}\n",
    "personame=list(dic.keys())\n",
    "print(personame)"
   ]
  },
  {
   "cell_type": "code",
   "execution_count": null,
   "id": "f76a4f3a",
   "metadata": {},
   "outputs": [],
   "source": []
  }
 ],
 "metadata": {
  "kernelspec": {
   "display_name": "Python 3 (ipykernel)",
   "language": "python",
   "name": "python3"
  },
  "language_info": {
   "codemirror_mode": {
    "name": "ipython",
    "version": 3
   },
   "file_extension": ".py",
   "mimetype": "text/x-python",
   "name": "python",
   "nbconvert_exporter": "python",
   "pygments_lexer": "ipython3",
   "version": "3.9.12"
  }
 },
 "nbformat": 4,
 "nbformat_minor": 5
}
